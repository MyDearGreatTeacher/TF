{
  "nbformat": 4,
  "nbformat_minor": 0,
  "metadata": {
    "colab": {
      "name": "TF_1_2LNN_BP.ipynb",
      "version": "0.3.2",
      "provenance": [],
      "include_colab_link": true
    },
    "kernelspec": {
      "name": "python3",
      "display_name": "Python 3"
    }
  },
  "cells": [
    {
      "cell_type": "markdown",
      "metadata": {
        "id": "view-in-github",
        "colab_type": "text"
      },
      "source": [
        "<a href=\"https://colab.research.google.com/github/MyDearGreatTeacher/TF/blob/master/TF_1_2LNN_BP.ipynb\" target=\"_parent\"><img src=\"https://colab.research.google.com/assets/colab-badge.svg\" alt=\"Open In Colab\"/></a>"
      ]
    },
    {
      "cell_type": "markdown",
      "metadata": {
        "id": "7lTpiWxERoO0",
        "colab_type": "text"
      },
      "source": [
        "# TF-two-layer Neural Network\n",
        "\n",
        "比較兩種版本:\n",
        "\n",
        "[1]實作back propagation版\n",
        "\n",
        "[2]使用Tensorflow內建的優化器自動處理\n",
        "\n",
        "\n",
        "Chapter01/automatic-differentiation.py\n",
        "\n",
        "\n",
        "此案例在tensorflow 1.13.1/2.0.0alpha居然有誤\n",
        "\n",
        "重裝tensorflow 1.12.2後就成功了"
      ]
    },
    {
      "cell_type": "code",
      "metadata": {
        "id": "_u2AjAQlQr-a",
        "colab_type": "code",
        "colab": {
          "base_uri": "https://localhost:8080/",
          "height": 34
        },
        "outputId": "78afa4de-246e-4395-b6bc-690bec11255b"
      },
      "source": [
        "tf.__version__"
      ],
      "execution_count": 3,
      "outputs": [
        {
          "output_type": "execute_result",
          "data": {
            "text/plain": [
              "'1.13.1'"
            ]
          },
          "metadata": {
            "tags": []
          },
          "execution_count": 3
        }
      ]
    },
    {
      "cell_type": "code",
      "metadata": {
        "id": "2ODtc7jnRGS3",
        "colab_type": "code",
        "colab": {}
      },
      "source": [
        "!pip install tensorflow==1.12.2"
      ],
      "execution_count": 0,
      "outputs": []
    },
    {
      "cell_type": "code",
      "metadata": {
        "id": "9DJ-Q47jRZC6",
        "colab_type": "code",
        "colab": {
          "base_uri": "https://localhost:8080/",
          "height": 34
        },
        "outputId": "1685a83b-a129-4b41-aa58-14945a8a7297"
      },
      "source": [
        "import tensorflow as tf\n",
        "tf.__version__"
      ],
      "execution_count": 1,
      "outputs": [
        {
          "output_type": "execute_result",
          "data": {
            "text/plain": [
              "'1.12.2'"
            ]
          },
          "metadata": {
            "tags": []
          },
          "execution_count": 1
        }
      ]
    },
    {
      "cell_type": "code",
      "metadata": {
        "id": "I4ZvMf0VQpY6",
        "colab_type": "code",
        "colab": {}
      },
      "source": [
        "from tensorflow.examples.tutorials.mnist import input_data\n",
        "\n",
        "mnist = input_data.read_data_sets(\"MNIST_data/\", one_hot=True)\n",
        "\n",
        "print(len(mnist.train.images))\n",
        "print(len(mnist.test.images))\n",
        "print(len(mnist.validation.images))\n",
        "print(mnist.train.labels[1,:])\n",
        "\n",
        "mnist\n"
      ],
      "execution_count": 0,
      "outputs": []
    },
    {
      "cell_type": "markdown",
      "metadata": {
        "id": "9hoE9w7XTOoz",
        "colab_type": "text"
      },
      "source": [
        "# 實作back propagation版"
      ]
    },
    {
      "cell_type": "code",
      "metadata": {
        "id": "VDiQlxZVSb_w",
        "colab_type": "code",
        "colab": {
          "base_uri": "https://localhost:8080/",
          "height": 311
        },
        "outputId": "576104cc-3b51-4201-bc2d-6cd188857640"
      },
      "source": [
        "import tensorflow as tf\n",
        "\n",
        "# get mnist dataset\n",
        "from tensorflow.examples.tutorials.mnist import input_data\n",
        "data = input_data.read_data_sets(\"MNIST_data/\", one_hot=True)\n",
        "\n",
        "# x represents image with 784 values as columns (28*28), y represents output digit\n",
        "x = tf.placeholder(tf.float32, [None, 784])\n",
        "y = tf.placeholder(tf.float32, [None, 10])\n",
        "\n",
        "# initialize weights and biases [w1,b1][w2,b2]\n",
        "numNeuronsInDeepLayer = 30\n",
        "w1 = tf.Variable(tf.truncated_normal([784, numNeuronsInDeepLayer]))\n",
        "b1 = tf.Variable(tf.truncated_normal([1, numNeuronsInDeepLayer]))\n",
        "w2 = tf.Variable(tf.truncated_normal([numNeuronsInDeepLayer, 10]))\n",
        "b2 = tf.Variable(tf.truncated_normal([1, 10]))\n",
        "\n",
        "\n",
        "# non-linear sigmoid function at each neuron\n",
        "def sigmoid(x):\n",
        "    sigma = tf.div(tf.constant(1.0), tf.add(tf.constant(1.0), tf.exp(tf.negative(x))))\n",
        "    return sigma\n",
        "\n",
        "# starting from first layer with wx+b, then apply sigmoid to add non-linearity\n",
        "z1 = tf.add(tf.matmul(x, w1), b1)\n",
        "a1 = sigmoid(z1)\n",
        "z2 = tf.add(tf.matmul(a1, w2), b2)\n",
        "a2 = sigmoid(z2)\n",
        "\n",
        "# calculate the loss (delta)\n",
        "loss = tf.subtract(a2, y)\n",
        "\n",
        "\n",
        "# derivative of the sigmoid function der(sigmoid)=sigmoid*(1-sigmoid)\n",
        "def sigmaprime(x):\n",
        "    return tf.multiply(sigmoid(x), tf.subtract(tf.constant(1.0), sigmoid(x)))\n",
        "\n",
        "# backward propagation\n",
        "dz2 = tf.multiply(loss, sigmaprime(z2))\n",
        "db2 = dz2\n",
        "dw2 = tf.matmul(tf.transpose(a1), dz2)\n",
        "\n",
        "da1 = tf.matmul(dz2, tf.transpose(w2))\n",
        "dz1 = tf.multiply(da1, sigmaprime(z1))\n",
        "db1 = dz1\n",
        "dw1 = tf.matmul(tf.transpose(x), dz1)\n",
        "\n",
        "# finally update the network\n",
        "eta = tf.constant(0.5)\n",
        "step = [\n",
        "    tf.assign(w1,\n",
        "              tf.subtract(w1, tf.multiply(eta, dw1)))\n",
        "    , tf.assign(b1,\n",
        "                tf.subtract(b1, tf.multiply(eta,\n",
        "                                             tf.reduce_mean(db1, axis=[0]))))\n",
        "    , tf.assign(w2,\n",
        "                tf.subtract(w2, tf.multiply(eta, dw2)))\n",
        "    , tf.assign(b2,\n",
        "                tf.subtract(b2, tf.multiply(eta,\n",
        "                                             tf.reduce_mean(db2, axis=[0]))))\n",
        "]\n",
        "\n",
        "acct_mat = tf.equal(tf.argmax(a2, 1), tf.argmax(y, 1))\n",
        "acct_res = tf.reduce_sum(tf.cast(acct_mat, tf.float32))\n",
        "\n",
        "sess = tf.InteractiveSession()\n",
        "sess.run(tf.global_variables_initializer())\n",
        "\n",
        "for i in range(10000):\n",
        "    batch_xs, batch_ys = data.train.next_batch(10)\n",
        "    sess.run(step, feed_dict={x: batch_xs,\n",
        "                              y: batch_ys})\n",
        "    if i % 1000 == 0:\n",
        "        res = sess.run(acct_res, feed_dict=\n",
        "        {x: data.test.images[:1000],\n",
        "         y: data.test.labels[:1000]})\n",
        "        print(res)"
      ],
      "execution_count": 4,
      "outputs": [
        {
          "output_type": "stream",
          "text": [
            "Extracting MNIST_data/train-images-idx3-ubyte.gz\n",
            "Extracting MNIST_data/train-labels-idx1-ubyte.gz\n",
            "Extracting MNIST_data/t10k-images-idx3-ubyte.gz\n",
            "Extracting MNIST_data/t10k-labels-idx1-ubyte.gz\n"
          ],
          "name": "stdout"
        },
        {
          "output_type": "stream",
          "text": [
            "/usr/local/lib/python3.6/dist-packages/tensorflow/python/client/session.py:1702: UserWarning: An interactive session is already active. This can cause out-of-memory errors in some cases. You must explicitly call `InteractiveSession.close()` to release resources held by the other session(s).\n",
            "  warnings.warn('An interactive session is already active. This can '\n"
          ],
          "name": "stderr"
        },
        {
          "output_type": "stream",
          "text": [
            "170.0\n",
            "821.0\n",
            "843.0\n",
            "868.0\n",
            "884.0\n",
            "908.0\n",
            "897.0\n",
            "908.0\n",
            "905.0\n",
            "915.0\n"
          ],
          "name": "stdout"
        }
      ]
    },
    {
      "cell_type": "markdown",
      "metadata": {
        "id": "2xClUwNkTSK5",
        "colab_type": "text"
      },
      "source": [
        "# [2]使用Tensorflow內建的優化器自動處理\n",
        "\n",
        "\n",
        "step = tf.train.GradientDescentOptimizer(0.1).minimize(cost)\n"
      ]
    },
    {
      "cell_type": "code",
      "metadata": {
        "id": "UrSrodrjQDWN",
        "colab_type": "code",
        "colab": {
          "base_uri": "https://localhost:8080/",
          "height": 257
        },
        "outputId": "ab505ec9-d098-4bb4-cb3f-f2fa0109280f"
      },
      "source": [
        "import tensorflow as tf\n",
        "\n",
        "# get mnist dataset\n",
        "from tensorflow.examples.tutorials.mnist import input_data\n",
        "data = input_data.read_data_sets(\"MNIST_data/\", one_hot=True)\n",
        "\n",
        "# x represents image with 784 values as columns (28*28), y represents output digit\n",
        "x = tf.placeholder(tf.float32, [None, 784])\n",
        "y = tf.placeholder(tf.float32, [None, 10])\n",
        "\n",
        "# initialize weights and biases [w1,b1][w2,b2]\n",
        "numNeuronsInDeepLayer = 30\n",
        "w1 = tf.Variable(tf.truncated_normal([784, numNeuronsInDeepLayer]))\n",
        "b1 = tf.Variable(tf.truncated_normal([1, numNeuronsInDeepLayer]))\n",
        "w2 = tf.Variable(tf.truncated_normal([numNeuronsInDeepLayer, 10]))\n",
        "b2 = tf.Variable(tf.truncated_normal([1, 10]))\n",
        "\n",
        "# non-linear sigmoid function at each neuron\n",
        "def sigmoid(x):\n",
        "    sigma = tf.div(tf.constant(1.0), tf.add(tf.constant(1.0), tf.exp(tf.negative(x))))\n",
        "    return sigma\n",
        "\n",
        "# starting from first layer with wx+b, then apply sigmoid to add non-linearity\n",
        "z1 = tf.add(tf.matmul(x, w1), b1)\n",
        "a1 = sigmoid(z1)\n",
        "z2 = tf.add(tf.matmul(a1, w2), b2)\n",
        "a2 = sigmoid(z2)\n",
        "\n",
        "# calculate the loss (delta)\n",
        "loss = tf.subtract(a2, y)\n",
        "\n",
        "# derivative of the sigmoid function der(sigmoid)=sigmoid*(1-sigmoid)\n",
        "def sigmaprime(x):\n",
        "    return tf.multiply(sigmoid(x), tf.subtract(tf.constant(1.0), sigmoid(x)))\n",
        "\n",
        "# automatic differentiation\n",
        "cost = tf.multiply(loss, loss)\n",
        "step = tf.train.GradientDescentOptimizer(0.1).minimize(cost)\n",
        "\n",
        "acct_mat = tf.equal(tf.argmax(a2, 1), tf.argmax(y, 1))\n",
        "acct_res = tf.reduce_sum(tf.cast(acct_mat, tf.float32))\n",
        "\n",
        "sess = tf.InteractiveSession()\n",
        "sess.run(tf.global_variables_initializer())\n",
        "\n",
        "for i in range(10000):\n",
        "    batch_xs, batch_ys = data.train.next_batch(10)\n",
        "    sess.run(step, feed_dict={x: batch_xs,\n",
        "                              y: batch_ys})\n",
        "    if i % 1000 == 0:\n",
        "        res = sess.run(acct_res, feed_dict=\n",
        "        {x: data.test.images[:1000],\n",
        "         y: data.test.labels[:1000]})\n",
        "        print(res)"
      ],
      "execution_count": 3,
      "outputs": [
        {
          "output_type": "stream",
          "text": [
            "Extracting MNIST_data/train-images-idx3-ubyte.gz\n",
            "Extracting MNIST_data/train-labels-idx1-ubyte.gz\n",
            "Extracting MNIST_data/t10k-images-idx3-ubyte.gz\n",
            "Extracting MNIST_data/t10k-labels-idx1-ubyte.gz\n",
            "92.0\n",
            "658.0\n",
            "748.0\n",
            "862.0\n",
            "868.0\n",
            "878.0\n",
            "891.0\n",
            "885.0\n",
            "895.0\n",
            "906.0\n"
          ],
          "name": "stdout"
        }
      ]
    }
  ]
}