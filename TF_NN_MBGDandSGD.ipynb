{
  "nbformat": 4,
  "nbformat_minor": 0,
  "metadata": {
    "colab": {
      "name": "TF_NN_MBGDandSGD.ipynb",
      "version": "0.3.2",
      "provenance": [],
      "include_colab_link": true
    },
    "kernelspec": {
      "name": "python3",
      "display_name": "Python 3"
    }
  },
  "cells": [
    {
      "cell_type": "markdown",
      "metadata": {
        "id": "view-in-github",
        "colab_type": "text"
      },
      "source": [
        "<a href=\"https://colab.research.google.com/github/MyDearGreatTeacher/TF/blob/master/TF_NN_MBGDandSGD.ipynb\" target=\"_parent\"><img src=\"https://colab.research.google.com/assets/colab-badge.svg\" alt=\"Open In Colab\"/></a>"
      ]
    },
    {
      "cell_type": "markdown",
      "metadata": {
        "id": "NV3SePs6HhsL",
        "colab_type": "text"
      },
      "source": [
        "###教科書\n",
        "\n",
        "TensorFlow Machine Learning Cookbook\n",
        "\n",
        "Nick McClure February 2017\n",
        "\n",
        "https://github.com/nfmcclure/tensorflow_cookbook\n",
        "\n",
        "02_TensorFlow_Way/06_Working_with_Batch_and_Stochastic_Training/06_batch_stochastic_training.py"
      ]
    },
    {
      "cell_type": "markdown",
      "metadata": {
        "id": "odUi8-53GPUg",
        "colab_type": "text"
      },
      "source": [
        "# Stochastic  Gradient Descent"
      ]
    },
    {
      "cell_type": "code",
      "metadata": {
        "id": "3Si9ohTbF282",
        "colab_type": "code",
        "outputId": "cf2319d5-df1a-41bd-a68c-02ba01110af2",
        "colab": {
          "base_uri": "https://localhost:8080/",
          "height": 703
        }
      },
      "source": [
        "import matplotlib.pyplot as plt\n",
        "import numpy as np\n",
        "import tensorflow as tf\n",
        "from tensorflow.python.framework import ops\n",
        "ops.reset_default_graph()\n",
        "\n",
        "\n",
        "# Create graph\n",
        "sess = tf.Session()\n",
        "\n",
        "# Create data\n",
        "x_vals = np.random.normal(1, 0.1, 100)\n",
        "y_vals = np.repeat(10., 100)\n",
        "x_data = tf.placeholder(shape=[1], dtype=tf.float32)\n",
        "y_target = tf.placeholder(shape=[1], dtype=tf.float32)\n",
        "\n",
        "# Create variable (one model parameter = A)\n",
        "A = tf.Variable(tf.random_normal(shape=[1]))\n",
        "\n",
        "# Add operation to graph\n",
        "my_output = tf.multiply(x_data, A)\n",
        "\n",
        "# Add L2 loss operation to graph\n",
        "loss = tf.square(my_output - y_target)\n",
        "\n",
        "# Create Optimizer\n",
        "my_opt = tf.train.GradientDescentOptimizer(0.02)\n",
        "train_step = my_opt.minimize(loss)\n",
        "\n",
        "# Initialize variables\n",
        "init = tf.global_variables_initializer()\n",
        "sess.run(init)\n",
        "\n",
        "loss_stochastic = []\n",
        "# Run Loop\n",
        "for i in range(100):\n",
        "    rand_index = np.random.choice(100)\n",
        "    rand_x = [x_vals[rand_index]]\n",
        "    rand_y = [y_vals[rand_index]]\n",
        "    sess.run(train_step, feed_dict={x_data: rand_x, y_target: rand_y})\n",
        "    \n",
        "    if (i+1)%5==0:\n",
        "        print('Step #' + str(i+1) + ' A = ' + str(sess.run(A)))\n",
        "        temp_loss = sess.run(loss, feed_dict={x_data: rand_x, y_target: rand_y})\n",
        "        print('Loss = ' + str(temp_loss))\n",
        "        loss_stochastic.append(temp_loss)"
      ],
      "execution_count": 0,
      "outputs": [
        {
          "output_type": "stream",
          "text": [
            "Step #5 A = [0.5533335]\n",
            "Loss = [88.01711]\n",
            "Step #10 A = [2.3527794]\n",
            "Loss = [52.81366]\n",
            "Step #15 A = [3.7738936]\n",
            "Loss = [40.001495]\n",
            "Step #20 A = [4.921602]\n",
            "Loss = [26.823112]\n",
            "Step #25 A = [5.8310432]\n",
            "Loss = [12.082465]\n",
            "Step #30 A = [6.570419]\n",
            "Loss = [5.6103063]\n",
            "Step #35 A = [7.1439466]\n",
            "Loss = [2.4210463]\n",
            "Step #40 A = [7.6305146]\n",
            "Loss = [11.829408]\n",
            "Step #45 A = [7.9922814]\n",
            "Loss = [0.293053]\n",
            "Step #50 A = [8.408428]\n",
            "Loss = [3.7821705]\n",
            "Step #55 A = [8.545987]\n",
            "Loss = [0.8405337]\n",
            "Step #60 A = [8.701541]\n",
            "Loss = [0.98514205]\n",
            "Step #65 A = [8.930631]\n",
            "Loss = [0.6874837]\n",
            "Step #70 A = [8.943389]\n",
            "Loss = [0.15637438]\n",
            "Step #75 A = [9.120171]\n",
            "Loss = [0.35149568]\n",
            "Step #80 A = [9.288064]\n",
            "Loss = [0.756339]\n",
            "Step #85 A = [9.3459015]\n",
            "Loss = [0.06552455]\n",
            "Step #90 A = [9.321806]\n",
            "Loss = [0.09580485]\n",
            "Step #95 A = [9.539761]\n",
            "Loss = [4.33246]\n",
            "Step #100 A = [9.698527]\n",
            "Loss = [0.39509135]\n"
          ],
          "name": "stdout"
        }
      ]
    },
    {
      "cell_type": "markdown",
      "metadata": {
        "id": "dGoRuVaRG6Je",
        "colab_type": "text"
      },
      "source": [
        "# Mini-Batch  Gradient Descent"
      ]
    },
    {
      "cell_type": "code",
      "metadata": {
        "id": "ZyqQIHxQG-De",
        "colab_type": "code",
        "outputId": "35f555d3-0ced-4a8c-e45c-6db784034a3f",
        "colab": {
          "base_uri": "https://localhost:8080/",
          "height": 955
        }
      },
      "source": [
        "# Re-initialize graph\n",
        "ops.reset_default_graph()\n",
        "sess = tf.Session()\n",
        "\n",
        "# Declare batch size\n",
        "batch_size = 20\n",
        "\n",
        "# Create data\n",
        "x_vals = np.random.normal(1, 0.1, 100)\n",
        "y_vals = np.repeat(10., 100)\n",
        "x_data = tf.placeholder(shape=[None, 1], dtype=tf.float32)\n",
        "y_target = tf.placeholder(shape=[None, 1], dtype=tf.float32)\n",
        "\n",
        "# Create variable (one model parameter = A)\n",
        "A = tf.Variable(tf.random_normal(shape=[1,1]))\n",
        "\n",
        "# Add operation to graph\n",
        "my_output = tf.matmul(x_data, A)\n",
        "\n",
        "# Add L2 loss operation to graph\n",
        "loss = tf.reduce_mean(tf.square(my_output - y_target))\n",
        "\n",
        "# Create Optimizer\n",
        "my_opt = tf.train.GradientDescentOptimizer(0.02)\n",
        "train_step = my_opt.minimize(loss)\n",
        "\n",
        "# Initialize variables\n",
        "init = tf.global_variables_initializer()\n",
        "sess.run(init)\n",
        "\n",
        "loss_batch = []\n",
        "# Run Loop\n",
        "for i in range(100):\n",
        "    rand_index = np.random.choice(100, size=batch_size)\n",
        "    rand_x = np.transpose([x_vals[rand_index]])\n",
        "    rand_y = np.transpose([y_vals[rand_index]])\n",
        "    sess.run(train_step, feed_dict={x_data: rand_x, y_target: rand_y})\n",
        "    if (i+1)%5==0:\n",
        "        print('Step #' + str(i+1) + ' A = ' + str(sess.run(A)))\n",
        "        temp_loss = sess.run(loss, feed_dict={x_data: rand_x, y_target: rand_y})\n",
        "        print('Loss = ' + str(temp_loss))\n",
        "        loss_batch.append(temp_loss)\n",
        "        \n",
        "plt.plot(range(0, 100, 5), loss_stochastic, 'b-', label='Stochastic Loss')\n",
        "plt.plot(range(0, 100, 5), loss_batch, 'r--', label='Batch Loss, size=20')\n",
        "plt.legend(loc='upper right', prop={'size': 11})\n",
        "plt.show()"
      ],
      "execution_count": 0,
      "outputs": [
        {
          "output_type": "stream",
          "text": [
            "Step #5 A = [[2.1740866]]\n",
            "Loss = 59.732616\n",
            "Step #10 A = [[3.6381633]]\n",
            "Loss = 38.3041\n",
            "Step #15 A = [[4.8085876]]\n",
            "Loss = 25.195902\n",
            "Step #20 A = [[5.754075]]\n",
            "Loss = 17.47294\n",
            "Step #25 A = [[6.5167317]]\n",
            "Loss = 10.631655\n",
            "Step #30 A = [[7.137004]]\n",
            "Loss = 7.95197\n",
            "Step #35 A = [[7.642663]]\n",
            "Loss = 4.8885064\n",
            "Step #40 A = [[8.04364]]\n",
            "Loss = 3.6863716\n",
            "Step #45 A = [[8.377675]]\n",
            "Loss = 3.146131\n",
            "Step #50 A = [[8.6266775]]\n",
            "Loss = 2.1141105\n",
            "Step #55 A = [[8.82769]]\n",
            "Loss = 2.0875711\n",
            "Step #60 A = [[8.984908]]\n",
            "Loss = 1.5612785\n",
            "Step #65 A = [[9.13702]]\n",
            "Loss = 1.0676601\n",
            "Step #70 A = [[9.254236]]\n",
            "Loss = 1.1873903\n",
            "Step #75 A = [[9.335363]]\n",
            "Loss = 1.5366862\n",
            "Step #80 A = [[9.381905]]\n",
            "Loss = 0.7644475\n",
            "Step #85 A = [[9.447761]]\n",
            "Loss = 0.94966996\n",
            "Step #90 A = [[9.493336]]\n",
            "Loss = 0.98318326\n",
            "Step #95 A = [[9.530296]]\n",
            "Loss = 1.6633517\n",
            "Step #100 A = [[9.570239]]\n",
            "Loss = 1.036273\n"
          ],
          "name": "stdout"
        },
        {
          "output_type": "display_data",
          "data": {
            "image/png": "[encoded data removed]",
            "text/plain": [
              "<Figure size 432x288 with 1 Axes>"
            ]
          },
          "metadata": {
            "tags": []
          }
        }
      ]
    }
  ]
}