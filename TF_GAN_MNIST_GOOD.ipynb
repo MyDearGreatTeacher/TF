{
  "nbformat": 4,
  "nbformat_minor": 0,
  "metadata": {
    "colab": {
      "name": "TF_GAN_MNIST_GOOD.ipynb",
      "version": "0.3.2",
      "provenance": [],
      "include_colab_link": true
    },
    "kernelspec": {
      "name": "python3",
      "display_name": "Python 3"
    }
  },
  "cells": [
    {
      "cell_type": "markdown",
      "metadata": {
        "id": "view-in-github",
        "colab_type": "text"
      },
      "source": [
        "<a href=\"https://colab.research.google.com/github/MyDearGreatTeacher/TF/blob/master/TF_GAN_MNIST_GOOD.ipynb\" target=\"_parent\"><img src=\"https://colab.research.google.com/assets/colab-badge.svg\" alt=\"Open In Colab\"/></a>"
      ]
    },
    {
      "cell_type": "markdown",
      "metadata": {
        "id": "7d1OpunfgseF",
        "colab_type": "text"
      },
      "source": [
        "# Tensorflow GAN\n",
        "\n",
        "此網站有許多tensorflow及Pytorch實作的GAN\n",
        "\n",
        "https://github.com/wiseodd/generative-models\n",
        "\n",
        "generative-models/GAN/vanilla_gan/gan_tensorflow.py"
      ]
    },
    {
      "cell_type": "code",
      "metadata": {
        "id": "zXoduHv4hNel",
        "colab_type": "code",
        "colab": {}
      },
      "source": [
        "!ls"
      ],
      "execution_count": 0,
      "outputs": []
    },
    {
      "cell_type": "code",
      "metadata": {
        "id": "vdTR6Q55gOj5",
        "colab_type": "code",
        "colab": {
          "base_uri": "https://localhost:8080/",
          "height": 1142
        },
        "outputId": "25528fc3-c073-423f-ac0f-cf218f1548e7"
      },
      "source": [
        "import tensorflow as tf\n",
        "from tensorflow.examples.tutorials.mnist import input_data\n",
        "import numpy as np\n",
        "import matplotlib.pyplot as plt\n",
        "import matplotlib.gridspec as gridspec\n",
        "import os\n",
        "\n",
        "\n",
        "def xavier_init(size):\n",
        "    in_dim = size[0]\n",
        "    xavier_stddev = 1. / tf.sqrt(in_dim / 2.)\n",
        "    return tf.random_normal(shape=size, stddev=xavier_stddev)\n",
        "\n",
        "\n",
        "X = tf.placeholder(tf.float32, shape=[None, 784])\n",
        "\n",
        "D_W1 = tf.Variable(xavier_init([784, 128]))\n",
        "D_b1 = tf.Variable(tf.zeros(shape=[128]))\n",
        "\n",
        "D_W2 = tf.Variable(xavier_init([128, 1]))\n",
        "D_b2 = tf.Variable(tf.zeros(shape=[1]))\n",
        "\n",
        "theta_D = [D_W1, D_W2, D_b1, D_b2]\n",
        "\n",
        "\n",
        "Z = tf.placeholder(tf.float32, shape=[None, 100])\n",
        "\n",
        "G_W1 = tf.Variable(xavier_init([100, 128]))\n",
        "G_b1 = tf.Variable(tf.zeros(shape=[128]))\n",
        "\n",
        "G_W2 = tf.Variable(xavier_init([128, 784]))\n",
        "G_b2 = tf.Variable(tf.zeros(shape=[784]))\n",
        "\n",
        "theta_G = [G_W1, G_W2, G_b1, G_b2]\n",
        "\n",
        "\n",
        "def sample_Z(m, n):\n",
        "    return np.random.uniform(-1., 1., size=[m, n])\n",
        "\n",
        "\n",
        "def generator(z):\n",
        "    G_h1 = tf.nn.relu(tf.matmul(z, G_W1) + G_b1)\n",
        "    G_log_prob = tf.matmul(G_h1, G_W2) + G_b2\n",
        "    G_prob = tf.nn.sigmoid(G_log_prob)\n",
        "\n",
        "    return G_prob\n",
        "\n",
        "\n",
        "def discriminator(x):\n",
        "    D_h1 = tf.nn.relu(tf.matmul(x, D_W1) + D_b1)\n",
        "    D_logit = tf.matmul(D_h1, D_W2) + D_b2\n",
        "    D_prob = tf.nn.sigmoid(D_logit)\n",
        "\n",
        "    return D_prob, D_logit\n",
        "\n",
        "\n",
        "def plot(samples):\n",
        "    fig = plt.figure(figsize=(4, 4))\n",
        "    gs = gridspec.GridSpec(4, 4)\n",
        "    gs.update(wspace=0.05, hspace=0.05)\n",
        "\n",
        "    for i, sample in enumerate(samples):\n",
        "        ax = plt.subplot(gs[i])\n",
        "        plt.axis('off')\n",
        "        ax.set_xticklabels([])\n",
        "        ax.set_yticklabels([])\n",
        "        ax.set_aspect('equal')\n",
        "        plt.imshow(sample.reshape(28, 28), cmap='Greys_r')\n",
        "\n",
        "    return fig\n",
        "\n",
        "\n",
        "G_sample = generator(Z)\n",
        "D_real, D_logit_real = discriminator(X)\n",
        "D_fake, D_logit_fake = discriminator(G_sample)\n",
        "\n",
        "# D_loss = -tf.reduce_mean(tf.log(D_real) + tf.log(1. - D_fake))\n",
        "# G_loss = -tf.reduce_mean(tf.log(D_fake))\n",
        "\n",
        "# Alternative losses:\n",
        "# -------------------\n",
        "D_loss_real = tf.reduce_mean(tf.nn.sigmoid_cross_entropy_with_logits(logits=D_logit_real, labels=tf.ones_like(D_logit_real)))\n",
        "D_loss_fake = tf.reduce_mean(tf.nn.sigmoid_cross_entropy_with_logits(logits=D_logit_fake, labels=tf.zeros_like(D_logit_fake)))\n",
        "D_loss = D_loss_real + D_loss_fake\n",
        "G_loss = tf.reduce_mean(tf.nn.sigmoid_cross_entropy_with_logits(logits=D_logit_fake, labels=tf.ones_like(D_logit_fake)))\n",
        "\n",
        "D_solver = tf.train.AdamOptimizer().minimize(D_loss, var_list=theta_D)\n",
        "G_solver = tf.train.AdamOptimizer().minimize(G_loss, var_list=theta_G)\n",
        "\n",
        "mb_size = 128\n",
        "Z_dim = 100\n",
        "\n",
        "mnist = input_data.read_data_sets('../../MNIST_data', one_hot=True)\n",
        "\n",
        "sess = tf.Session()\n",
        "sess.run(tf.global_variables_initializer())\n",
        "\n",
        "if not os.path.exists('out/'):\n",
        "    os.makedirs('out/')\n",
        "\n",
        "i = 0\n",
        "\n",
        "for it in range(10000):\n",
        "    if it % 1000 == 0:\n",
        "        samples = sess.run(G_sample, feed_dict={Z: sample_Z(16, Z_dim)})\n",
        "\n",
        "        fig = plot(samples)\n",
        "        plt.savefig('out/{}.png'.format(str(i).zfill(3)), bbox_inches='tight')\n",
        "        i += 1\n",
        "        plt.close(fig)\n",
        "\n",
        "    X_mb, _ = mnist.train.next_batch(mb_size)\n",
        "\n",
        "    _, D_loss_curr = sess.run([D_solver, D_loss], feed_dict={X: X_mb, Z: sample_Z(mb_size, Z_dim)})\n",
        "    _, G_loss_curr = sess.run([G_solver, G_loss], feed_dict={Z: sample_Z(mb_size, Z_dim)})\n",
        "\n",
        "    if it % 1000 == 0:\n",
        "        print('Iter: {}'.format(it))\n",
        "        print('D loss: {:.4}'. format(D_loss_curr))\n",
        "        print('G_loss: {:.4}'.format(G_loss_curr))\n",
        "        print()"
      ],
      "execution_count": 1,
      "outputs": [
        {
          "output_type": "stream",
          "text": [
            "WARNING:tensorflow:From /usr/local/lib/python3.6/dist-packages/tensorflow/python/framework/op_def_library.py:263: colocate_with (from tensorflow.python.framework.ops) is deprecated and will be removed in a future version.\n",
            "Instructions for updating:\n",
            "Colocations handled automatically by placer.\n",
            "WARNING:tensorflow:From <ipython-input-1-0dbbdf95db20>:93: read_data_sets (from tensorflow.contrib.learn.python.learn.datasets.mnist) is deprecated and will be removed in a future version.\n",
            "Instructions for updating:\n",
            "Please use alternatives such as official/mnist/dataset.py from tensorflow/models.\n",
            "WARNING:tensorflow:From /usr/local/lib/python3.6/dist-packages/tensorflow/contrib/learn/python/learn/datasets/mnist.py:260: maybe_download (from tensorflow.contrib.learn.python.learn.datasets.base) is deprecated and will be removed in a future version.\n",
            "Instructions for updating:\n",
            "Please write your own downloading logic.\n",
            "WARNING:tensorflow:From /usr/local/lib/python3.6/dist-packages/tensorflow/contrib/learn/python/learn/datasets/mnist.py:262: extract_images (from tensorflow.contrib.learn.python.learn.datasets.mnist) is deprecated and will be removed in a future version.\n",
            "Instructions for updating:\n",
            "Please use tf.data to implement this functionality.\n",
            "Extracting ../../MNIST_data/train-images-idx3-ubyte.gz\n",
            "WARNING:tensorflow:From /usr/local/lib/python3.6/dist-packages/tensorflow/contrib/learn/python/learn/datasets/mnist.py:267: extract_labels (from tensorflow.contrib.learn.python.learn.datasets.mnist) is deprecated and will be removed in a future version.\n",
            "Instructions for updating:\n",
            "Please use tf.data to implement this functionality.\n",
            "Extracting ../../MNIST_data/train-labels-idx1-ubyte.gz\n",
            "WARNING:tensorflow:From /usr/local/lib/python3.6/dist-packages/tensorflow/contrib/learn/python/learn/datasets/mnist.py:110: dense_to_one_hot (from tensorflow.contrib.learn.python.learn.datasets.mnist) is deprecated and will be removed in a future version.\n",
            "Instructions for updating:\n",
            "Please use tf.one_hot on tensors.\n",
            "Extracting ../../MNIST_data/t10k-images-idx3-ubyte.gz\n",
            "Extracting ../../MNIST_data/t10k-labels-idx1-ubyte.gz\n",
            "WARNING:tensorflow:From /usr/local/lib/python3.6/dist-packages/tensorflow/contrib/learn/python/learn/datasets/mnist.py:290: DataSet.__init__ (from tensorflow.contrib.learn.python.learn.datasets.mnist) is deprecated and will be removed in a future version.\n",
            "Instructions for updating:\n",
            "Please use alternatives such as official/mnist/dataset.py from tensorflow/models.\n",
            "Iter: 0\n",
            "D loss: 1.117\n",
            "G_loss: 2.465\n",
            "\n",
            "Iter: 1000\n",
            "D loss: 0.008121\n",
            "G_loss: 7.44\n",
            "\n",
            "Iter: 2000\n",
            "D loss: 0.02543\n",
            "G_loss: 6.237\n",
            "\n",
            "Iter: 3000\n",
            "D loss: 0.08466\n",
            "G_loss: 6.092\n",
            "\n",
            "Iter: 4000\n",
            "D loss: 0.1331\n",
            "G_loss: 4.586\n",
            "\n",
            "Iter: 5000\n",
            "D loss: 0.09771\n",
            "G_loss: 5.493\n",
            "\n",
            "Iter: 6000\n",
            "D loss: 0.3292\n",
            "G_loss: 5.804\n",
            "\n",
            "Iter: 7000\n",
            "D loss: 0.3867\n",
            "G_loss: 3.563\n",
            "\n",
            "Iter: 8000\n",
            "D loss: 0.5084\n",
            "G_loss: 4.364\n",
            "\n",
            "Iter: 9000\n",
            "D loss: 0.5418\n",
            "G_loss: 2.987\n",
            "\n"
          ],
          "name": "stdout"
        }
      ]
    },
    {
      "cell_type": "code",
      "metadata": {
        "id": "FgKq-n3UiBNE",
        "colab_type": "code",
        "colab": {
          "base_uri": "https://localhost:8080/",
          "height": 85
        },
        "outputId": "fb477ad0-885a-45e4-cb84-64417286d0ce"
      },
      "source": [
        "!ls out"
      ],
      "execution_count": 3,
      "outputs": [
        {
          "output_type": "stream",
          "text": [
            "000.png  004.png  008.png  012.png  016.png  020.png  024.png  028.png\n",
            "001.png  005.png  009.png  013.png  017.png  021.png  025.png  029.png\n",
            "002.png  006.png  010.png  014.png  018.png  022.png  026.png\n",
            "003.png  007.png  011.png  015.png  019.png  023.png  027.png\n"
          ],
          "name": "stdout"
        }
      ]
    },
    {
      "cell_type": "code",
      "metadata": {
        "id": "wDPGqttPiXc7",
        "colab_type": "code",
        "colab": {
          "base_uri": "https://localhost:8080/",
          "height": 85
        },
        "outputId": "512d76a2-78a3-47a4-a939-1b8692703c75"
      },
      "source": [
        "import os\n",
        "os.chdir(\"out\")\n",
        "\n",
        "!ls"
      ],
      "execution_count": 4,
      "outputs": [
        {
          "output_type": "stream",
          "text": [
            "000.png  004.png  008.png  012.png  016.png  020.png  024.png  028.png\n",
            "001.png  005.png  009.png  013.png  017.png  021.png  025.png  029.png\n",
            "002.png  006.png  010.png  014.png  018.png  022.png  026.png\n",
            "003.png  007.png  011.png  015.png  019.png  023.png  027.png\n"
          ],
          "name": "stdout"
        }
      ]
    },
    {
      "cell_type": "code",
      "metadata": {
        "id": "FoZgb4pIinjs",
        "colab_type": "code",
        "colab": {
          "base_uri": "https://localhost:8080/",
          "height": 303
        },
        "outputId": "a15f6bf5-a184-466b-b54e-6900b8727c52"
      },
      "source": [
        "# -*- coding: utf-8 -*-\n",
        "import tensorflow as tf\n",
        "import matplotlib.pyplot as plt\n",
        "#\"讀取圖片檔\"\n",
        "image=tf.read_file(\"028.png\",'r')\n",
        "#\"將圖片檔解碼為Tensor\"\n",
        "image_tensor=tf.image.decode_jpeg(image)\n",
        "#\"圖像張量的形狀\"\n",
        "shape=tf.shape(image_tensor)\n",
        "session=tf.Session()\n",
        "print('圖像的形狀:')\n",
        "print(session.run(shape))\n",
        "#\"Tensor 轉換為 ndarray\"\n",
        "image_ndarray=image_tensor.eval(session=session)\n",
        "#\"顯示圖片\"\n",
        "plt.imshow(image_ndarray)\n",
        "plt.show()"
      ],
      "execution_count": 7,
      "outputs": [
        {
          "output_type": "stream",
          "text": [
            "圖像的形狀:\n",
            "[231 236   4]\n"
          ],
          "name": "stdout"
        },
        {
          "output_type": "display_data",
          "data": {
            "image/png": "[encoded data removed]",
            "text/plain": [
              "<Figure size 432x288 with 1 Axes>"
            ]
          },
          "metadata": {
            "tags": []
          }
        }
      ]
    }
  ]
}