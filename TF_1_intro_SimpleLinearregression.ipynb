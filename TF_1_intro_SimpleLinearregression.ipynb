{
  "nbformat": 4,
  "nbformat_minor": 0,
  "metadata": {
    "colab": {
      "name": "TF_1_intro_SimpleLinearregression.ipynb",
      "version": "0.3.2",
      "provenance": [],
      "include_colab_link": true
    },
    "kernelspec": {
      "name": "python3",
      "display_name": "Python 3"
    }
  },
  "cells": [
    {
      "cell_type": "markdown",
      "metadata": {
        "id": "view-in-github",
        "colab_type": "text"
      },
      "source": [
        "<a href=\"https://colab.research.google.com/github/MyDearGreatTeacher/TF/blob/master/TF_1_intro_SimpleLinearregression.ipynb\" target=\"_parent\"><img src=\"https://colab.research.google.com/assets/colab-badge.svg\" alt=\"Open In Colab\"/></a>"
      ]
    },
    {
      "cell_type": "markdown",
      "metadata": {
        "id": "u0I1GaOy6wFF",
        "colab_type": "text"
      },
      "source": [
        "# Tensorflow Simple Linear regression\n",
        "\n",
        "tensorflow入門應用方法——線性回歸和邏輯回歸\n",
        "\n",
        "https://www.jianshu.com/p/772d57571272\n"
      ]
    },
    {
      "cell_type": "code",
      "metadata": {
        "id": "qdQHKWgU6lDN",
        "colab_type": "code",
        "colab": {}
      },
      "source": [
        "import numpy as np\n",
        "import tensorflow as tf\n",
        "import matplotlib.pyplot as plt\n",
        "\n",
        "\n",
        "# 随机生成1000个点\n",
        "num_points = 1000\n",
        "vectors_set = []\n",
        "for i in range(num_points):\n",
        "    x1 = np.random.normal(0.0, 1)\n",
        "    y1 = x1 * 0.1 + 0.3 + np.random.normal(0.0, 0.01)\n",
        "    vectors_set.append([x1, y1])\n",
        "\n",
        "\n",
        "# 生成一些样本\n",
        "x_data = [v[0] for v in vectors_set]\n",
        "y_data = [v[1] for v in vectors_set]\n",
        "\n",
        "# 画出图像\n",
        "plt.scatter(x_data, y_data, c='r')\n",
        "plt.show()"
      ],
      "execution_count": 0,
      "outputs": []
    },
    {
      "cell_type": "code",
      "metadata": {
        "id": "neEQyiwm64-9",
        "colab_type": "code",
        "colab": {
          "base_uri": "https://localhost:8080/",
          "height": 1803
        },
        "outputId": "26983f0e-1681-43fa-fb2f-a135acdba760"
      },
      "source": [
        "# 初始化参数\n",
        "W = tf.Variable(tf.random_uniform([1], -1.0, 1.0), name='W')\n",
        "b = tf.Variable(tf.zeros([1]), name='b')\n",
        "# 求线性函数\n",
        "y = W * x_data + b\n",
        "\n",
        "# 求损失函数\n",
        "loss = tf.reduce_mean(tf.square(y-y_data), name='loss')\n",
        "# 梯度下降\n",
        "optimizer = tf.train.AdamOptimizer(0.2)\n",
        "train = optimizer.minimize(loss, name='train')\n",
        "\n",
        "# 迭代最小化损失值求结果\n",
        "with tf.Session() as sess:\n",
        "    init = tf.global_variables_initializer()\n",
        "    sess.run(init)\n",
        "    for step in range(100):\n",
        "        sess.run(train)\n",
        "        print('W=', sess.run(W), 'b=', sess.run(b), 'loss=', sess.run(loss))"
      ],
      "execution_count": 3,
      "outputs": [
        {
          "output_type": "stream",
          "text": [
            "WARNING:tensorflow:From /usr/local/lib/python3.6/dist-packages/tensorflow/python/framework/op_def_library.py:263: colocate_with (from tensorflow.python.framework.ops) is deprecated and will be removed in a future version.\n",
            "Instructions for updating:\n",
            "Colocations handled automatically by placer.\n",
            "W= [-0.7379485] b= [0.19999993] loss= 0.7403376\n",
            "W= [-0.54020077] b= [0.37530494] loss= 0.4305566\n",
            "W= [-0.34714326] b= [0.48080385] loss= 0.23916098\n",
            "W= [-0.16219398] b= [0.5024615] loss= 0.1116886\n",
            "W= [0.01011181] b= [0.4674268] loss= 0.036306914\n",
            "W= [0.16429098] b= [0.401309] loss= 0.014724249\n",
            "W= [0.29463422] b= [0.3229695] loss= 0.039932083\n",
            "W= [0.39645392] b= [0.24883474] loss= 0.09356847\n",
            "W= [0.46729928] b= [0.1934996] loss= 0.15069193\n",
            "W= [0.5074015] b= [0.16606095] loss= 0.18927304\n",
            "W= [0.51919913] b= [0.16754429] loss= 0.19897819\n",
            "W= [0.5064448] b= [0.19293344] loss= 0.1821605\n",
            "W= [0.4734284] b= [0.23440264] loss= 0.14858827\n",
            "W= [0.4245162] b= [0.2830494] loss= 0.10946021\n",
            "W= [0.36395824] b= [0.32970604] loss= 0.07330391\n",
            "W= [0.2958458] b= [0.36605704] loss= 0.0443894\n",
            "W= [0.22411868] b= [0.38631085] loss= 0.023651222\n",
            "W= [0.15255775] b= [0.3884352] loss= 0.0108343465\n",
            "W= [0.08472457] b= [0.37408152] loss= 0.005812422\n",
            "W= [0.02383887] b= [0.34759167] loss= 0.008350389\n",
            "W= [-0.0273895] b= [0.3149012] loss= 0.017174477\n",
            "W= [-0.06693156] b= [0.28256053] loss= 0.02942343\n",
            "W= [-0.09356351] b= [0.25666958] loss= 0.041055016\n",
            "W= [-0.10690849] b= [0.24170412] loss= 0.048184097\n",
            "W= [-0.10739075] b= [0.23962833] loss= 0.048645128\n",
            "W= [-0.09612426] b= [0.24969673] loss= 0.04276754\n",
            "W= [-0.07476937] b= [0.26890197] loss= 0.032908\n",
            "W= [-0.04538488] b= [0.29274645] loss= 0.022151824\n",
            "W= [-0.01028943] b= [0.31613824] loss= 0.012990888\n",
            "W= [0.02806677] b= [0.3343721] loss= 0.0066338195\n",
            "W= [0.06722498] b= [0.3440852] loss= 0.003142596\n",
            "W= [0.10484049] b= [0.34391987] loss= 0.0020497288\n",
            "W= [0.13880438] b= [0.3346736] loss= 0.0028666982\n",
            "W= [0.1673577] b= [0.31895697] loss= 0.0051582055\n",
            "W= [0.18918595] b= [0.300534] loss= 0.008318304\n",
            "W= [0.20348166] b= [0.28349656] loss= 0.011416356\n",
            "W= [0.2099671] b= [0.2713883] loss= 0.0133746145\n",
            "W= [0.20887636] b= [0.26644844] loss= 0.013426609\n",
            "W= [0.20090257] b= [0.2691816] loss= 0.011526194\n",
            "W= [0.18711977] b= [0.2783643] loss= 0.008379263\n",
            "W= [0.1688887] b= [0.29143935] loss= 0.0050595617\n",
            "W= [0.14775406] b= [0.30516538] loss= 0.0024752645\n",
            "W= [0.1253382] b= [0.31638023] loss= 0.0010272694\n",
            "W= [0.10323553] b= [0.32272434] loss= 0.0006226083\n",
            "W= [0.08291174] b= [0.32314953] loss= 0.0009343805\n",
            "W= [0.06561341] b= [0.3180811] loss= 0.001652316\n",
            "W= [0.05229435] b= [0.30921265] loss= 0.002552776\n",
            "W= [0.04356496] b= [0.29901594] loss= 0.0034233516\n",
            "W= [0.03966876] b= [0.29009777] loss= 0.004002592\n",
            "W= [0.04048746] b= [0.28455424] loss= 0.004046128\n",
            "W= [0.04557281] b= [0.28348088] loss= 0.003477023\n",
            "W= [0.05420094] b= [0.28676388] loss= 0.0024741846\n",
            "W= [0.06544338] b= [0.29319307] loss= 0.0013978448\n",
            "W= [0.0782487] b= [0.30084506] loss= 0.00059520267\n",
            "W= [0.09152818] b= [0.30762318] loss= 0.00023040107\n",
            "W= [0.10423965] b= [0.31181288] loss= 0.0002530544\n",
            "W= [0.1154632] b= [0.3125079] loss= 0.0004975449\n",
            "W= [0.12446345] b= [0.30979675] loss= 0.0008074614\n",
            "W= [0.13073371] b= [0.30467132] loss= 0.00108878\n",
            "W= [0.1340193] b= [0.29869962] loss= 0.0012854285\n",
            "W= [0.13431916] b= [0.29356438] loss= 0.001343672\n",
            "W= [0.13186713] b= [0.29059705] loss= 0.0012219965\n",
            "W= [0.12709601] b= [0.29043525] loss= 0.00093551754\n",
            "W= [0.12058853] b= [0.292894] loss= 0.00057660526\n",
            "W= [0.11302008] b= [0.2970749] loss= 0.00027507084\n",
            "W= [0.10509823] b= [0.30166817] loss= 0.00012387539\n",
            "W= [0.09750364] b= [0.30535072] loss= 0.00013157171\n",
            "W= [0.09083693] b= [0.3071636] loss= 0.00023650142\n",
            "W= [0.08557512] b= [0.30676046] loss= 0.00036111812\n",
            "W= [0.08204085] b= [0.30446246] loss= 0.0004557094\n",
            "W= [0.08038614] b= [0.30111465] loss= 0.0005031409\n",
            "W= [0.08059136] b= [0.297799] loss= 0.0004994368\n",
            "W= [0.0824789] b= [0.2954967] loss= 0.0004424621\n",
            "W= [0.08573952] b= [0.29480347] loss= 0.0003404011\n",
            "W= [0.0899685] b= [0.29577968] loss= 0.00022254312\n",
            "W= [0.09470808] b= [0.29797313] loss= 0.00013120285\n",
            "W= [0.09949183] b= [0.30059636] loss= 9.6680014e-05\n",
            "W= [0.10388709] b= [0.3027941] loss= 0.00011806136\n",
            "W= [0.10753158] b= [0.3039134] loss= 0.0001676864\n",
            "W= [0.11016098] b= [0.303692] loss= 0.00021344634\n",
            "W= [0.11162564] b= [0.30231124] loss= 0.00023759955\n",
            "W= [0.11189527] b= [0.3003054] loss= 0.0002385159\n",
            "W= [0.11105223] b= [0.29836574] loss= 0.00022103157\n",
            "W= [0.1092748] b= [0.2971079] loss= 0.00018977396\n",
            "W= [0.10681283] b= [0.29687998] loss= 0.00015103552\n",
            "W= [0.10395871] b= [0.29767025] loss= 0.00011603947\n",
            "W= [0.1010166] b= [0.29913825] loss= 9.733744e-05\n",
            "W= [0.09827314] b= [0.30075076] loss= 0.00010014104\n",
            "W= [0.09597191] b= [0.3019712] loss= 0.000117916374\n",
            "W= [0.09429402] b= [0.3024365] loss= 0.00013742586\n",
            "W= [0.09334578] b= [0.30206367] loss= 0.00014826783\n",
            "W= [0.09315441] b= [0.30105516] loss= 0.00014799688\n",
            "W= [0.09367149] b= [0.29980817] loss= 0.00013982138\n",
            "W= [0.09478337] b= [0.2987651] loss= 0.00012768683\n",
            "W= [0.09632723] b= [0.2982599] loss= 0.000114394476\n",
            "W= [0.0981108] b= [0.2984131] loss= 0.000102882645\n",
            "W= [0.09993374] b= [0.29910776] loss= 9.673403e-05\n",
            "W= [0.10160843] b= [0.30004963] loss= 9.7987846e-05\n",
            "W= [0.102978] b= [0.30088404] loss= 0.00010480594\n",
            "W= [0.10393001] b= [0.301325] loss= 0.00011228688\n"
          ],
          "name": "stdout"
        }
      ]
    },
    {
      "cell_type": "code",
      "metadata": {
        "id": "1Kh3ej2i6qdo",
        "colab_type": "code",
        "colab": {}
      },
      "source": [
        "import numpy as np\n",
        "import tensorflow as tf\n",
        "import matplotlib.pyplot as plt\n",
        "\n",
        "\n",
        "# 随机生成1000个点\n",
        "num_points = 1000\n",
        "vectors_set = []\n",
        "for i in range(num_points):\n",
        "    x1 = np.random.normal(0.0, 1)\n",
        "    y1 = x1 * 0.1 + 0.3 + np.random.normal(0.0, 0.01)\n",
        "    vectors_set.append([x1, y1])"
      ],
      "execution_count": 0,
      "outputs": []
    }
  ]
}