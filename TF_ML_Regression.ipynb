{
  "nbformat": 4,
  "nbformat_minor": 0,
  "metadata": {
    "colab": {
      "name": "TF_ML_Regression.ipynb",
      "version": "0.3.2",
      "provenance": [],
      "include_colab_link": true
    },
    "kernelspec": {
      "name": "python3",
      "display_name": "Python 3"
    }
  },
  "cells": [
    {
      "cell_type": "markdown",
      "metadata": {
        "id": "view-in-github",
        "colab_type": "text"
      },
      "source": [
        "<a href=\"https://colab.research.google.com/github/MyDearGreatTeacher/TF/blob/master/TF_ML_Regression.ipynb\" target=\"_parent\"><img src=\"https://colab.research.google.com/assets/colab-badge.svg\" alt=\"Open In Colab\"/></a>"
      ]
    },
    {
      "cell_type": "markdown",
      "metadata": {
        "id": "9uj3-WVmZG5T",
        "colab_type": "text"
      },
      "source": [
        "https://www.jianshu.com/p/772d57571272\n",
        "\n",
        "比較不同optimizers"
      ]
    },
    {
      "cell_type": "code",
      "metadata": {
        "id": "W2AxAG8IYs0y",
        "colab_type": "code",
        "colab": {
          "base_uri": "https://localhost:8080/",
          "height": 2040
        },
        "outputId": "01185c3c-43b8-4f7c-ea7a-8b7b761c202d"
      },
      "source": [
        "import numpy as np\n",
        "import tensorflow as tf\n",
        "import matplotlib.pyplot as plt\n",
        "\n",
        "\n",
        "# 隨機生成1000個點\n",
        "num_points = 1000\n",
        "vectors_set = []\n",
        "for i in range(num_points):\n",
        "    x1 = np.random.normal(0.0, 1)\n",
        "    y1 = x1 * 0.1 + 0.3 + np.random.normal(0.0, 0.01)\n",
        "    vectors_set.append([x1, y1])\n",
        "\n",
        "\n",
        "# 生成一些樣本\n",
        "x_data = [v[0] for v in vectors_set]\n",
        "y_data = [v[1] for v in vectors_set]\n",
        "\n",
        "# 畫出圖像\n",
        "plt.scatter(x_data, y_data, c='r')\n",
        "plt.show()\n",
        "\n",
        "# 初始化參數\n",
        "W = tf.Variable(tf.random_uniform([1], -1.0, 1.0), name='W')\n",
        "b = tf.Variable(tf.zeros([1]), name='b')\n",
        "# 求線性函數\n",
        "y = W * x_data + b\n",
        "\n",
        "# 求損失函數\n",
        "loss = tf.reduce_mean(tf.square(y-y_data), name='loss')\n",
        "# 梯度下降\n",
        "optimizer = tf.train.AdamOptimizer(0.2)\n",
        "train = optimizer.minimize(loss, name='train')\n",
        "\n",
        "# 反覆運算最小化損失值求結果\n",
        "with tf.Session() as sess:\n",
        "    init = tf.global_variables_initializer()\n",
        "    sess.run(init)\n",
        "    for step in range(100):\n",
        "        sess.run(train)\n",
        "        print('W=', sess.run(W), 'b=', sess.run(b), 'loss=', sess.run(loss))\n"
      ],
      "execution_count": 1,
      "outputs": [
        {
          "output_type": "display_data",
          "data": {
            "image/png": "[encoded data removed]",
            "text/plain": [
              "<Figure size 432x288 with 1 Axes>"
            ]
          },
          "metadata": {
            "tags": []
          }
        },
        {
          "output_type": "stream",
          "text": [
            "WARNING:tensorflow:From /usr/local/lib/python3.6/dist-packages/tensorflow/python/framework/op_def_library.py:263: colocate_with (from tensorflow.python.framework.ops) is deprecated and will be removed in a future version.\n",
            "Instructions for updating:\n",
            "Colocations handled automatically by placer.\n",
            "W= [-0.2856635] b= [0.19999988] loss= 0.15862222\n",
            "W= [-0.09212084] b= [0.37636214] loss= 0.040771082\n",
            "W= [0.08521029] b= [0.48529705] loss= 0.03434975\n",
            "W= [0.23158336] b= [0.51020586] loss= 0.06333225\n",
            "W= [0.33274415] b= [0.4765863] loss= 0.087367095\n",
            "W= [0.38398898] b= [0.40996444] loss= 0.09328806\n",
            "W= [0.39119387] b= [0.32900366] loss= 0.084210515\n",
            "W= [0.36456648] b= [0.24981272] loss= 0.06968629\n",
            "W= [0.3142042] b= [0.18734351] loss= 0.05548181\n",
            "W= [0.24899623] b= [0.15227018] loss= 0.041732047\n",
            "W= [0.1768764] b= [0.1475375] loss= 0.028154727\n",
            "W= [0.10517488] b= [0.16938697] loss= 0.017175514\n",
            "W= [0.04060023] b= [0.21066475] loss= 0.012024453\n",
            "W= [-0.01122945] b= [0.2629106] loss= 0.013951365\n",
            "W= [-0.04645962] b= [0.31711915] loss= 0.021167206\n",
            "W= [-0.06343392] b= [0.3644048] loss= 0.029474609\n",
            "W= [-0.06262392] b= [0.39734513] loss= 0.03408967\n",
            "W= [-0.04616942] b= [0.41159564] loss= 0.032057166\n",
            "W= [-0.0173261] b= [0.40661415] loss= 0.023861583\n",
            "W= [0.01998814] b= [0.38512233] loss= 0.013023462\n",
            "W= [0.06152917] b= [0.3520357] loss= 0.00407841\n",
            "W= [0.10301639] b= [0.31351435] loss= 0.00028456026\n",
            "W= [0.14044678] b= [0.27614644] loss= 0.0021715097\n",
            "W= [0.17044592] b= [0.24601132] loss= 0.0075239916\n",
            "W= [0.19059926] b= [0.22761089] loss= 0.012783875\n",
            "W= [0.19967327] b= [0.22304474] loss= 0.015054984\n",
            "W= [0.19766688] b= [0.23180932] loss= 0.013478229\n",
            "W= [0.18570122] b= [0.25119367] loss= 0.009274197\n",
            "W= [0.16580328] b= [0.27696884] loss= 0.0047030393\n",
            "W= [0.14064154] b= [0.30416355] loss= 0.001718502\n",
            "W= [0.11324262] b= [0.3278982] loss= 0.0010593154\n",
            "W= [0.08669362] b= [0.34424376] loss= 0.002166247\n",
            "W= [0.06383235] b= [0.35092935] loss= 0.003809481\n",
            "W= [0.04694698] b= [0.34767228] loss= 0.0049098856\n",
            "W= [0.03752974] b= [0.336056] loss= 0.0050306055\n",
            "W= [0.03613215] b= [0.31906527] loss= 0.0043599117\n",
            "W= [0.04234696] b= [0.30043185] loss= 0.003363754\n",
            "W= [0.0549091] b= [0.28389636] loss= 0.0024270988\n",
            "W= [0.0718874] b= [0.27248478] loss= 0.0017129873\n",
            "W= [0.09093699] b= [0.26794264] loss= 0.0012454131\n",
            "W= [0.10958853] b= [0.27046973] loss= 0.0010418284\n",
            "W= [0.12555051] b= [0.2788073] loss= 0.0011337802\n",
            "W= [0.13699222] b= [0.29061854] loss= 0.0014768884\n",
            "W= [0.14276563] b= [0.30305237] loss= 0.001879536\n",
            "W= [0.14252865] b= [0.3133757] loss= 0.002061933\n",
            "W= [0.13675095] b= [0.3195519] loss= 0.0018311801\n",
            "W= [0.12660761] b= [0.32063776] loss= 0.0012380873\n",
            "W= [0.11378408] b= [0.31690943] loss= 0.00057396526\n",
            "W= [0.10022268] b= [0.30970326] loss= 0.00018685222\n",
            "W= [0.08784386] b= [0.30103257] loss= 0.00024587158\n",
            "W= [0.07827841] b= [0.29307967] loss= 0.0006300119\n",
            "W= [0.07264945] b= [0.2876786] loss= 0.0010237243\n",
            "W= [0.07143828] b= [0.28590703] loss= 0.001143308\n",
            "W= [0.0744539] b= [0.28788212] loss= 0.00092243025\n",
            "W= [0.08090571] b= [0.2928006] loss= 0.00052715634\n",
            "W= [0.08956123] b= [0.29919732] loss= 0.00020926747\n",
            "W= [0.09895919] b= [0.30534682] loss= 0.00012397407\n",
            "W= [0.10764373] b= [0.3097055] loss= 0.00024637603\n",
            "W= [0.11438385] b= [0.31128564] loss= 0.00042794403\n",
            "W= [0.1183446] b= [0.30987012] loss= 0.0005247249\n",
            "W= [0.11918487] b= [0.30602017] loss= 0.0004899859\n",
            "W= [0.11707] b= [0.30088586] loss= 0.00037439904\n",
            "W= [0.11260367] b= [0.295878] loss= 0.00025980812\n",
            "W= [0.10669649] b= [0.2922909] loss= 0.00019524283\n",
            "W= [0.10039776] b= [0.2909738] loss= 0.00018116146\n",
            "W= [0.09471973] b= [0.29213488] loss= 0.00019454276\n",
            "W= [0.09048265] b= [0.295323] loss= 0.00021667975\n",
            "W= [0.08820368] b= [0.2995833] loss= 0.00023843488\n",
            "W= [0.08804387] b= [0.3037359] loss= 0.00025021433\n",
            "W= [0.0898167] b= [0.3066998] loss= 0.00023888773\n",
            "W= [0.09305066] b= [0.30777326] loss= 0.0001996213\n",
            "W= [0.09709051] b= [0.30679825] loss= 0.00014791444\n",
            "W= [0.10121763] b= [0.30416998] loss= 0.00011346354\n",
            "W= [0.1047686] b= [0.30069727] loss= 0.00011687322\n",
            "W= [0.10723407] b= [0.29735973] loss= 0.00015053236\n",
            "W= [0.10832434] b= [0.2950331] loss= 0.00018334128\n",
            "W= [0.10799486] b= [0.29425883] loss= 0.00018646933\n",
            "W= [0.10643129] b= [0.2951196] loss= 0.00015691984\n",
            "W= [0.10400025] b= [0.29724884] loss= 0.00011791919\n",
            "W= [0.10117622] b= [0.29996338] loss= 9.724439e-05\n",
            "W= [0.09845752] b= [0.3024752] loss= 0.00010429788\n",
            "W= [0.09628481] b= [0.30411774] loss= 0.00012567596\n",
            "W= [0.09497437] b= [0.30452222] loss= 0.00014017681\n",
            "W= [0.0946754] b= [0.30369735] loss= 0.00013713614\n",
            "W= [0.09535678] b= [0.3019958] loss= 0.000122049685\n",
            "W= [0.09682382] b= [0.29998505] loss= 0.000107766435\n",
            "W= [0.0987611] b= [0.29826647] loss= 0.00010238092\n",
            "W= [0.10079343] b= [0.29729897] loss= 0.00010486613\n",
            "W= [0.10255421] b= [0.29727846] loss= 0.0001095126\n",
            "W= [0.10374926] b= [0.2981044] loss= 0.00011214809\n",
            "W= [0.10420528] b= [0.29943708] loss= 0.00011206239\n",
            "W= [0.10389459] b= [0.30082142] loss= 0.00011002386\n",
            "W= [0.10293226] b= [0.30183476] loss= 0.000106535015\n",
            "W= [0.10154695] b= [0.30221212] loss= 0.00010234295\n",
            "W= [0.10003158] b= [0.30191216] loss= 9.931931e-05\n",
            "W= [0.09868392] b= [0.30110845] loss= 9.940266e-05\n",
            "W= [0.09774898] b= [0.30011436] loss= 0.000102372316\n",
            "W= [0.09737452] b= [0.29927075] loss= 0.00010536358\n",
            "W= [0.09758803] b= [0.2988347] loss= 0.00010528877\n",
            "W= [0.09829906] b= [0.29890466] loss= 0.000101839\n"
          ],
          "name": "stdout"
        }
      ]
    }
  ]
}