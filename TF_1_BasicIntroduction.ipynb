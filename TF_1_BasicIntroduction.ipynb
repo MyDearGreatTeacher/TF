{
  "nbformat": 4,
  "nbformat_minor": 0,
  "metadata": {
    "colab": {
      "name": "TF_1_BasicIntroduction.ipynb",
      "version": "0.3.2",
      "provenance": [],
      "include_colab_link": true
    },
    "kernelspec": {
      "name": "python3",
      "display_name": "Python 3"
    }
  },
  "cells": [
    {
      "cell_type": "markdown",
      "metadata": {
        "id": "view-in-github",
        "colab_type": "text"
      },
      "source": [
        "<a href=\"https://colab.research.google.com/github/MyDearGreatTeacher/TF/blob/master/TF_1_BasicIntroduction.ipynb\" target=\"_parent\"><img src=\"https://colab.research.google.com/assets/colab-badge.svg\" alt=\"Open In Colab\"/></a>"
      ]
    },
    {
      "cell_type": "markdown",
      "metadata": {
        "id": "xMg7gTLybfQA",
        "colab_type": "text"
      },
      "source": [
        "#  TENSORFLOW 的第一堂課\n",
        "\n",
        "資料結構:TENSOR\n",
        "\n",
        "常數與變數"
      ]
    },
    {
      "cell_type": "markdown",
      "metadata": {
        "id": "g2jIl5wwcsfo",
        "colab_type": "text"
      },
      "source": [
        "# TENSORFLOW的運算圖(Computational Graph)\n",
        "\n",
        "開發模式:Design and run\n",
        "\n",
        "先design模型\n",
        "然後再建立session執行\n",
        "\n",
        "\n"
      ]
    },
    {
      "cell_type": "markdown",
      "metadata": {
        "id": "FF9GZSfuehDi",
        "colab_type": "text"
      },
      "source": [
        "# 教科書\n",
        "\n",
        "TensorFlow Machine Learning Cookbook\n",
        "\n",
        "Nick McClure    February 2017\n",
        "\n",
        "\n",
        "https://github.com/nfmcclure/tensorflow_cookbook"
      ]
    },
    {
      "cell_type": "markdown",
      "metadata": {
        "id": "r3ElqRr_tuA9",
        "colab_type": "text"
      },
      "source": [
        "# Tensor(張量)及其基本運算"
      ]
    },
    {
      "cell_type": "markdown",
      "metadata": {
        "id": "NGQ6OEicgK4H",
        "colab_type": "text"
      },
      "source": [
        "## 常數 tf.constant()"
      ]
    },
    {
      "cell_type": "markdown",
      "metadata": {
        "id": "uAyYSqLUsEh1",
        "colab_type": "text"
      },
      "source": [
        "## 純量 scalar"
      ]
    },
    {
      "cell_type": "code",
      "metadata": {
        "id": "qm1KjEZ2gU7z",
        "colab_type": "code",
        "outputId": "a4902dc1-ccee-45a8-91e9-b5a9d155920e",
        "colab": {
          "base_uri": "https://localhost:8080/",
          "height": 34
        }
      },
      "source": [
        "import tensorflow as tf\n",
        "from tensorflow.python.framework import ops\n",
        "ops.reset_default_graph()\n",
        "\n",
        "# Introduce tensors in tf\n",
        "\n",
        "# Get graph handle\n",
        "sess = tf.Session()\n",
        "\n",
        "my_tensor = tf.constant(4)\n",
        "\n",
        "\n",
        "sess.run(my_tensor)"
      ],
      "execution_count": 0,
      "outputs": [
        {
          "output_type": "execute_result",
          "data": {
            "text/plain": [
              "4"
            ]
          },
          "metadata": {
            "tags": []
          },
          "execution_count": 4
        }
      ]
    },
    {
      "cell_type": "markdown",
      "metadata": {
        "id": "r1c6H_ycsLx_",
        "colab_type": "text"
      },
      "source": [
        "## 一維張量"
      ]
    },
    {
      "cell_type": "code",
      "metadata": {
        "id": "-CTJalqjr9i0",
        "colab_type": "code",
        "outputId": "9ef77795-541b-40ae-9269-9aa14fd60ad6",
        "colab": {
          "base_uri": "https://localhost:8080/",
          "height": 51
        }
      },
      "source": [
        "# -*- coding: utf-8 -*-\n",
        "import tensorflow as tf\n",
        "\n",
        "t=tf.constant([11,21,13],tf.float32)\n",
        "\n",
        "session=tf.Session()\n",
        "\n",
        "array=session.run(t)\n",
        "\n",
        "print(type(array))\n",
        "print(array)\n"
      ],
      "execution_count": 0,
      "outputs": [
        {
          "output_type": "stream",
          "text": [
            "<class 'numpy.ndarray'>\n",
            "[11. 21. 13.]\n"
          ],
          "name": "stdout"
        }
      ]
    },
    {
      "cell_type": "markdown",
      "metadata": {
        "id": "leE46Vj4scz3",
        "colab_type": "text"
      },
      "source": [
        "# numpy的ndarray轉換為tensorflow 的tensor\n",
        "\n",
        "使用tf.convert_to_tensor()函數"
      ]
    },
    {
      "cell_type": "code",
      "metadata": {
        "id": "YDd0exFVsrkb",
        "colab_type": "code",
        "outputId": "75b380d4-5836-4e95-b12a-6ab31b87f721",
        "colab": {
          "base_uri": "https://localhost:8080/",
          "height": 51
        }
      },
      "source": [
        "# -*- coding: utf-8 -*-\n",
        "import tensorflow as tf\n",
        "import numpy as np\n",
        "\n",
        "\n",
        "array=np.array([1,2,3],np.float32)\n",
        "\n",
        "\n",
        "t=tf.convert_to_tensor(array,tf.float32,name='t')\n",
        "\n",
        "print(t)\n",
        "\n",
        "sess = tf.Session()\n",
        "sess.run(t)"
      ],
      "execution_count": 0,
      "outputs": [
        {
          "output_type": "stream",
          "text": [
            "Tensor(\"t_1:0\", shape=(3,), dtype=float32)\n"
          ],
          "name": "stdout"
        },
        {
          "output_type": "execute_result",
          "data": {
            "text/plain": [
              "array([1., 2., 3.], dtype=float32)"
            ]
          },
          "metadata": {
            "tags": []
          },
          "execution_count": 19
        }
      ]
    },
    {
      "cell_type": "markdown",
      "metadata": {
        "id": "432_RxRoxc6j",
        "colab_type": "text"
      },
      "source": [
        "## 二維張量"
      ]
    },
    {
      "cell_type": "code",
      "metadata": {
        "id": "sk83qO01xNnL",
        "colab_type": "code",
        "outputId": "f10396f6-3661-444e-886b-0013347da62e",
        "colab": {
          "base_uri": "https://localhost:8080/",
          "height": 34
        }
      },
      "source": [
        "# -*- coding: utf-8 -*-\n",
        "import tensorflow as tf\n",
        "\n",
        "t=tf.constant(\n",
        "        [\n",
        "        [1,2,3],\n",
        "        [4,5,6]\n",
        "        ]\n",
        "        ,tf.float32)\n",
        "session=tf.Session()\n",
        "\n",
        "s=tf.shape(t)\n",
        "print('張量的形狀:',session.run(s))"
      ],
      "execution_count": 0,
      "outputs": [
        {
          "output_type": "stream",
          "text": [
            "張量的形狀: [2 3]\n"
          ],
          "name": "stdout"
        }
      ]
    },
    {
      "cell_type": "markdown",
      "metadata": {
        "id": "UHsRquupyM6G",
        "colab_type": "text"
      },
      "source": [
        "# 使用random模組產生測試資料"
      ]
    },
    {
      "cell_type": "markdown",
      "metadata": {
        "id": "It7VEL0fzFkr",
        "colab_type": "text"
      },
      "source": [
        "### 建立滿足均勻分佈(最小值0，最大值10)的四維張量亂數"
      ]
    },
    {
      "cell_type": "code",
      "metadata": {
        "id": "_jRUujGpx3Wc",
        "colab_type": "code",
        "colab": {}
      },
      "source": [
        "# -*- coding: utf-8 -*-\n",
        "import tensorflow as tf\n",
        "import matplotlib.pyplot as plt\n",
        "\n",
        "x=tf.random_uniform([2,4,3,5],minval=0,maxval=10,dtype=tf.float32)\n",
        "\n",
        "\n",
        "session=tf.Session()\n",
        "array=session.run(x)\n",
        "print(array)\n",
        "\n",
        "#\"為了畫出長條圖,將array轉為1個一維的ndarray\"\n",
        "array1d=array.reshape([-1])\n",
        "plt.hist(array1d)\n",
        "plt.show()\n"
      ],
      "execution_count": 0,
      "outputs": []
    },
    {
      "cell_type": "markdown",
      "metadata": {
        "id": "euZf7iu1y6uC",
        "colab_type": "text"
      },
      "source": [
        "### 建立四維張量其中的值滿足正態分佈（平均值為10,標準差為1）的亂數"
      ]
    },
    {
      "cell_type": "code",
      "metadata": {
        "id": "j0Spr_uEyxIg",
        "colab_type": "code",
        "colab": {}
      },
      "source": [
        "# -*- coding: utf-8 -*-\n",
        "import tensorflow as tf\n",
        "import matplotlib.pyplot as plt\n",
        "import numpy as np\n",
        "import math\n",
        "\n",
        "\n",
        "sigma=1\n",
        "mu=10\n",
        "result=tf.random_normal([10,4,20,5],mu,sigma,tf.float32)\n",
        "\n",
        "session=tf.Session()\n",
        "array=session.run(result)\n",
        "\n",
        "print(array)\n",
        "\n",
        "#\"將多維的ndarray轉換為一維的ndarray\"\n",
        "array1d=array.reshape([-1])\n",
        "\n",
        "\n",
        "#\"\"計算並顯示長條圖\"\"\n",
        "histogram,bins,patch= plt.hist(array1d,25,facecolor='gray',alpha=0.5,normed=True)\n",
        "\n",
        "x=np.arange(5,15,0.01)\n",
        "y=1.0/(math.sqrt(2*np.pi)*sigma)*np.exp(-np.power(x-mu,2.0)/(2*math.pow(sigma,2)))\n",
        "plt.plot(x,y)\n",
        "plt.show()\n"
      ],
      "execution_count": 0,
      "outputs": []
    },
    {
      "cell_type": "markdown",
      "metadata": {
        "id": "gGneYVE0giZy",
        "colab_type": "text"
      },
      "source": [
        "# 變數 tf.Variable"
      ]
    },
    {
      "cell_type": "code",
      "metadata": {
        "id": "yKxZ1h9QffeH",
        "colab_type": "code",
        "colab": {}
      },
      "source": [
        "import tensorflow as tf\n",
        "from tensorflow.python.framework import ops\n",
        "ops.reset_default_graph()\n",
        "\n",
        "# Introduce tensors in tf\n",
        "\n",
        "# Get graph handle\n",
        "sess = tf.Session()\n",
        "\n",
        "my_tensor = tf.zeros([1,20])\n",
        "\n",
        "# Declare a variable\n",
        "my_var = tf.Variable(tf.zeros([1,20]))\n",
        "\n",
        "# Different kinds of variables\n",
        "row_dim = 2\n",
        "col_dim = 3 \n",
        "\n",
        "# Zero initialized variable\n",
        "zero_var = tf.Variable(tf.zeros([row_dim, col_dim]))\n",
        "\n",
        "# One initialized variable\n",
        "ones_var = tf.Variable(tf.ones([row_dim, col_dim]))\n",
        "\n",
        "# shaped like other variable\n",
        "sess.run(zero_var.initializer)\n",
        "sess.run(ones_var.initializer)\n",
        "zero_similar = tf.Variable(tf.zeros_like(zero_var))\n",
        "ones_similar = tf.Variable(tf.ones_like(ones_var))\n",
        "\n",
        "sess.run(ones_similar.initializer)\n",
        "sess.run(zero_similar.initializer)\n"
      ],
      "execution_count": 0,
      "outputs": []
    },
    {
      "cell_type": "markdown",
      "metadata": {
        "id": "kH58Jr2DvDZF",
        "colab_type": "text"
      },
      "source": [
        "##  PlaceHolder 佔位符\n",
        "\n",
        "Inserts a placeholder for a tensor that will be always fed.\n",
        "\n",
        "https://www.tensorflow.org/api_docs/python/tf/placeholder\n",
        "\n",
        "tf.placeholder\n",
        "\n",
        "tf.placeholder(\n",
        "    dtype,\n",
        "    shape=None,\n",
        "    name=None\n",
        ")\n",
        "\n",
        "Defined in tensorflow/python/ops/array_ops.py.\n",
        "\n",
        "\n",
        "\n",
        "Important: This tensor will produce an error if evaluated. Its value must be fed using the feed_dict optional argument to Session.run(), Tensor.eval(), or Operation.run()."
      ]
    },
    {
      "cell_type": "markdown",
      "metadata": {
        "id": "l0CjL7BsuGhG",
        "colab_type": "text"
      },
      "source": [
        "What's the difference between tf.placeholder and tf.Variable?\n",
        "\n",
        "https://stackoverflow.com/questions/36693740/whats-the-difference-between-tf-placeholder-and-tf-variable"
      ]
    },
    {
      "cell_type": "code",
      "metadata": {
        "id": "X8cABp354vc-",
        "colab_type": "code",
        "outputId": "8b529541-65be-4fe0-b482-2ce16d1a78c0",
        "colab": {
          "base_uri": "https://localhost:8080/",
          "height": 120
        }
      },
      "source": [
        "# y=w*x   W===3*2  x可以是2*1,  2*2,  2*3　最後執行運算時再帶入真正的值\n",
        "\n",
        "# -*- coding: utf-8 -*-\n",
        "import tensorflow as tf\n",
        "import numpy as np\n",
        "\n",
        "session=tf.Session()\n",
        "\n",
        "x=tf.placeholder(tf.float32,[2,None],name='x')\n",
        "\n",
        "\n",
        "w=tf.constant(\n",
        "        [\n",
        "        [1,2],\n",
        "        [3,4],\n",
        "        [5,6]\n",
        "        ],tf.float32\n",
        "        )\n",
        "\n",
        "y=tf.matmul(w,x)\n",
        "\n",
        "\n",
        "result1=session.run(y,feed_dict={x:np.array([[2,1],[1,2]],np.float32)})\n",
        "print(result1)\n",
        "\n",
        "\n",
        "result2=session.run(y,feed_dict={x:np.array([[-1],[2]],np.float32)})\n",
        "print(result2)\n"
      ],
      "execution_count": 0,
      "outputs": [
        {
          "output_type": "stream",
          "text": [
            "[[ 4.  5.]\n",
            " [10. 11.]\n",
            " [16. 17.]]\n",
            "[[3.]\n",
            " [5.]\n",
            " [7.]]\n"
          ],
          "name": "stdout"
        }
      ]
    },
    {
      "cell_type": "markdown",
      "metadata": {
        "id": "GVyzWrdCvVFn",
        "colab_type": "text"
      },
      "source": [
        "# 張量的運算\n",
        "\n",
        "張量有許多運算\n",
        "\n",
        "底下以範例說明最常用的運算"
      ]
    },
    {
      "cell_type": "markdown",
      "metadata": {
        "id": "2zIYdLzk274v",
        "colab_type": "text"
      },
      "source": [
        "### 範例:加總運算tf.reduce_sum()\n",
        "\n",
        "Reduction運算"
      ]
    },
    {
      "cell_type": "code",
      "metadata": {
        "id": "D_zl4saW2uxs",
        "colab_type": "code",
        "outputId": "dd0e1865-7e1f-4038-938b-0cd2839ece5b",
        "colab": {
          "base_uri": "https://localhost:8080/",
          "height": 120
        }
      },
      "source": [
        "import tensorflow as tf\n",
        "\n",
        "session=tf.Session()\n",
        "\n",
        "#\"二維張量\"\n",
        "value2d=tf.constant(\n",
        "        [\n",
        "        [5,1,4,2],\n",
        "        [3,9,5,7]\n",
        "                ],tf.float32\n",
        "        )\n",
        "\n",
        "#\"計算沿0軸方向上的和\"\n",
        "sum0=tf.reduce_sum(value2d,axis=0)\n",
        "print(\"沿 0 軸方向上的和:\")\n",
        "print(session.run(sum0))\n",
        "\n",
        "\n",
        "#\"計算沿1軸方向上的和\"\n",
        "sum1=tf.reduce_sum(value2d,axis=1)\n",
        "print(\"沿 1 軸方向上的和:\")\n",
        "print(session.run(sum1))\n",
        "\n",
        "#\"計算沿(0,1)平面上的和\"\n",
        "sum01=tf.reduce_sum(value2d,axis=(0,1))\n",
        "print(\"沿 (0,1) 平面上的和:\")\n",
        "print(session.run(sum01))\n"
      ],
      "execution_count": 0,
      "outputs": [
        {
          "output_type": "stream",
          "text": [
            "沿 0 軸方向上的和:\n",
            "[ 8. 10.  9.  9.]\n",
            "沿 1 軸方向上的和:\n",
            "[12. 24.]\n",
            "沿 (0,1) 平面上的和:\n",
            "36.0\n"
          ],
          "name": "stdout"
        }
      ]
    },
    {
      "cell_type": "markdown",
      "metadata": {
        "id": "JQthyW87dKIo",
        "colab_type": "text"
      },
      "source": [
        "## 範例一:求 3+6=?"
      ]
    },
    {
      "cell_type": "code",
      "metadata": {
        "id": "O-AjyDgyc1Es",
        "colab_type": "code",
        "outputId": "f2cb2148-76fa-4963-9346-3c5742848015",
        "colab": {
          "base_uri": "https://localhost:8080/",
          "height": 34
        }
      },
      "source": [
        "import tensorflow as tf\n",
        "\n",
        "session=tf.Session()\n",
        "\n",
        "a = tf.constant(3)\n",
        "b = tf.constant(6)\n",
        "c=a+b\n",
        "\n",
        "print(session.run(c))"
      ],
      "execution_count": 0,
      "outputs": [
        {
          "output_type": "stream",
          "text": [
            "9\n"
          ],
          "name": "stdout"
        }
      ]
    },
    {
      "cell_type": "markdown",
      "metadata": {
        "id": "eAWgfAICdVd2",
        "colab_type": "text"
      },
      "source": [
        "## 範例二: x=9, y=x**2,f=3y-5x+1求f=?\n"
      ]
    },
    {
      "cell_type": "code",
      "metadata": {
        "id": "V-HtQ44zYYVI",
        "colab_type": "code",
        "colab": {
          "base_uri": "https://localhost:8080/",
          "height": 34
        },
        "outputId": "c2108a72-ce79-433f-d19a-3ad2802bc6e8"
      },
      "source": [
        "import tensorflow as tf\n",
        "\n",
        "#reset_graph()\n",
        "\n",
        "x = tf.Variable(3, name=\"x\")\n",
        "y = tf.Variable(x**2, name=\"y\")\n",
        "f = 3*y-5*x+1\n",
        "\n",
        "sess = tf.Session()\n",
        "sess.run(x.initializer)\n",
        "sess.run(y.initializer)\n",
        "result = sess.run(f)\n",
        "print(result)\n",
        "\n",
        "sess.close()"
      ],
      "execution_count": 4,
      "outputs": [
        {
          "output_type": "stream",
          "text": [
            "13\n"
          ],
          "name": "stdout"
        }
      ]
    },
    {
      "cell_type": "code",
      "metadata": {
        "id": "Yc7eDBaVZA7C",
        "colab_type": "code",
        "colab": {}
      },
      "source": [
        "import tensorflow as tf\n",
        "\n",
        "#reset_graph()\n",
        "\n",
        "x = tf.Variable(3, name=\"x\")\n",
        "y = tf.Variable(4, name=\"y\")\n",
        "f = x**2+3*x*y + y + 2\n",
        "\n",
        "sess = tf.Session()\n",
        "sess.run(x.initializer)\n",
        "sess.run(y.initializer)\n",
        "result = sess.run(f)\n",
        "print(result)\n",
        "\n",
        "sess.close()"
      ],
      "execution_count": 0,
      "outputs": []
    },
    {
      "cell_type": "markdown",
      "metadata": {
        "id": "inJxxhGkdpml",
        "colab_type": "text"
      },
      "source": [
        "## 範例三:矩陣相加(兩種寫法)\n",
        "\n",
        "\n",
        "result=tf.add(value1,value2)\n",
        "\n",
        "result=value1+value2\n",
        "\n",
        "print(session.run(result))"
      ]
    },
    {
      "cell_type": "code",
      "metadata": {
        "id": "QNAsSSfBdurN",
        "colab_type": "code",
        "outputId": "40cb56cd-d077-4e5d-c537-bb077a80c6e1",
        "colab": {
          "base_uri": "https://localhost:8080/",
          "height": 51
        }
      },
      "source": [
        "# -*- coding: utf-8 -*-\n",
        "import tensorflow as tf\n",
        "\n",
        "session=tf.Session()\n",
        "\n",
        "\n",
        "value1=tf.constant(\n",
        "        [\n",
        "         [1,2,3],\n",
        "         [4,5,6]\n",
        "        ],tf.float32)\n",
        "\n",
        "value2=tf.constant([\n",
        "        [10],\n",
        "        [20]\n",
        "        ],tf.float32)\n",
        "\n",
        "result=tf.add(value1,value2)\n",
        "\n",
        "print(session.run(result))"
      ],
      "execution_count": 0,
      "outputs": [
        {
          "output_type": "stream",
          "text": [
            "[[11. 12. 13.]\n",
            " [24. 25. 26.]]\n"
          ],
          "name": "stdout"
        }
      ]
    },
    {
      "cell_type": "code",
      "metadata": {
        "id": "VO_vhqxC5Oq3",
        "colab_type": "code",
        "outputId": "a7aea2f9-f995-4d17-f233-e7e3a5aedbb1",
        "colab": {
          "base_uri": "https://localhost:8080/",
          "height": 51
        }
      },
      "source": [
        "# -*- coding: utf-8 -*-\n",
        "import tensorflow as tf\n",
        "\n",
        "session=tf.Session()\n",
        "\n",
        "\n",
        "value1=tf.constant(\n",
        "        [\n",
        "         [1,2,3],\n",
        "         [4,5,6]\n",
        "        ],tf.float32)\n",
        "\n",
        "value2=tf.constant([10,20,30],tf.float32)\n",
        "\n",
        "result=tf.add(value1,value2)\n",
        "\n",
        "print(session.run(result))"
      ],
      "execution_count": 0,
      "outputs": [
        {
          "output_type": "stream",
          "text": [
            "[[11. 22. 33.]\n",
            " [14. 25. 36.]]\n"
          ],
          "name": "stdout"
        }
      ]
    },
    {
      "cell_type": "markdown",
      "metadata": {
        "id": "WRUsF13flvSw",
        "colab_type": "text"
      },
      "source": [
        "## 範例四:矩陣transpose運算\n",
        "\n",
        "tf.transpose(\n",
        "    a,\n",
        "    perm=None,\n",
        "    name='transpose',\n",
        "    conjugate=False\n",
        ")\n",
        "\n",
        "https://www.tensorflow.org/api_docs/python/tf/transpose"
      ]
    },
    {
      "cell_type": "code",
      "metadata": {
        "id": "LMIG9lYBjzl6",
        "colab_type": "code",
        "outputId": "a69d414c-63e9-418c-93cc-0c3cb39b9e9d",
        "colab": {
          "base_uri": "https://localhost:8080/",
          "height": 68
        }
      },
      "source": [
        "import tensorflow as tf\n",
        "\n",
        "x = [[1,2,3],[4,5,6]]\n",
        "x = tf.convert_to_tensor(x)\n",
        "xtrans = tf.transpose(x)\n",
        "\n",
        "with tf.Session() as sess:\n",
        "    print(sess.run(xtrans))"
      ],
      "execution_count": 0,
      "outputs": [
        {
          "output_type": "stream",
          "text": [
            "[[1 4]\n",
            " [2 5]\n",
            " [3 6]]\n"
          ],
          "name": "stdout"
        }
      ]
    },
    {
      "cell_type": "markdown",
      "metadata": {
        "id": "9uUBW4z3dwKw",
        "colab_type": "text"
      },
      "source": [
        "## 範例五:矩陣相乘\n",
        "\n",
        "特別注意兩種不同乘法\n",
        "\n",
        " element-wise乘法\n",
        " \n",
        " 內積乘法"
      ]
    },
    {
      "cell_type": "code",
      "metadata": {
        "id": "k1a4q_g9i4hm",
        "colab_type": "code",
        "colab": {}
      },
      "source": [
        "import tensorflow as tf\n",
        "\n",
        "mat1 = tf.constant([[4, 5, 6],[3,2,1]])\n",
        "mat2 = tf.constant([[7, 8, 9],[10, 11, 12]])\n",
        "\n",
        "# hadamard product (element wise)\n",
        "mult = tf.multiply(mat1, mat2)\n",
        "\n",
        "# dot product (no. of rows = no. of columns)\n",
        "dotprod = tf.matmul(mat1, tf.transpose(mat2))\n",
        "\n",
        "with tf.Session() as sess:\n",
        "    print(sess.run(mult))\n",
        "    print(sess.run(tf.transpose(mat2)))\n",
        "    print(sess.run(dotprod))"
      ],
      "execution_count": 0,
      "outputs": []
    },
    {
      "cell_type": "code",
      "metadata": {
        "id": "Y2b_0A0biWYp",
        "colab_type": "code",
        "colab": {}
      },
      "source": [
        "# convert matrices to tensor objects\n",
        "import numpy as np\n",
        "import tensorflow as tf\n",
        "\n",
        "# create a 2x2 matrix in various forms\n",
        "matrix1 = [[1.0, 2.0], [3.0, 40]]\n",
        "matrix2 = np.array([[1.0, 2.0], [3.0, 40]], dtype=np.float32)\n",
        "matrix3 = tf.constant([[1.0, 2.0], [3.0, 40]])\n",
        "\n",
        "print(type(matrix1))\n",
        "print(type(matrix2))\n",
        "print(type(matrix3))\n",
        "\n",
        "print(matrix1)\n",
        "print(matrix2)\n",
        "print(matrix3)\n",
        "\n",
        "tensorForM1 = tf.convert_to_tensor(matrix1, dtype=tf.float32)\n",
        "tensorForM2 = tf.convert_to_tensor(matrix2, dtype=tf.float32)\n",
        "tensorForM3 = tf.convert_to_tensor(matrix3, dtype=tf.float32)\n",
        "\n",
        "print(type(tensorForM1))\n",
        "print(type(tensorForM2))\n",
        "print(type(tensorForM3))"
      ],
      "execution_count": 0,
      "outputs": []
    },
    {
      "cell_type": "markdown",
      "metadata": {
        "id": "qWyzcTHpbc1h",
        "colab_type": "text"
      },
      "source": [
        "# 常用的常數向量建構函數\n",
        "\n",
        "tf.constant() 創造常數張量\n",
        "\n",
        "tf.zeros() ：建構內容數值皆為 0 的常數張量\n",
        "\n",
        "tf.ones() ：建構內容數值皆為 1 的常數張量\n",
        "\n",
        "tf.fill() ：建構內容數值皆為特定值的常數張量\n",
        "\n",
        "tf.range() ：建構內容數值為 (start, limit, delta) 數列的常數張量\n",
        "\n",
        "tf.random_normal() ：建構內容數值為符合常態分佈數列的常數張量\n",
        "\n",
        "tf.random_uniform() ：建構內容數值為符合均勻分佈數列的常數張量"
      ]
    },
    {
      "cell_type": "markdown",
      "metadata": {
        "id": "CwTTX-NzcSyw",
        "colab_type": "text"
      },
      "source": [
        "zeros = tf.zeros((2, 2))\n",
        "\n",
        "ones = tf.ones((2, 2))\n",
        "\n",
        "fills = tf.fill((2, 2), 5)\n",
        "\n",
        "ranges = tf.reshape(tf.range(1, 9, 2), (2, 2))\n",
        "\n",
        "normals = tf.random_normal((2, 2))\n",
        "\n",
        "uniforms = tf.random_uniform((2, 2))"
      ]
    },
    {
      "cell_type": "code",
      "metadata": {
        "id": "KA46pzAvbHXq",
        "colab_type": "code",
        "colab": {}
      },
      "source": [
        "import numpy as np\n",
        "import tensorflow as tf\n",
        "\n",
        "print(\"NumPy:\")\n",
        "print(np.zeros((2, 2)))\n",
        "print(np.ones((2, 2)))\n",
        "print(np.full((2, 2), 5))\n",
        "print(np.arange(1, 9, 2).reshape(2, 2))\n",
        "print(np.random.normal(size=(2, 2)))\n",
        "print(np.random.uniform(size=(2, 2)))\n",
        "print(\"\\n\")\n",
        "print(\"TensorFlow:\")\n",
        "zeros = tf.zeros((2, 2))\n",
        "ones = tf.ones((2, 2))\n",
        "fills = tf.fill((2, 2), 5)\n",
        "ranges = tf.reshape(tf.range(1, 9, 2), (2, 2))\n",
        "normals = tf.random_normal((2, 2))\n",
        "uniforms = tf.random_uniform((2, 2))\n",
        "initializations = [zeros, ones, fills, ranges, normals, uniforms, ]\n",
        "with tf.Session() as sess:\n",
        "  for i in initializations:\n",
        "    print(sess.run(i))"
      ],
      "execution_count": 0,
      "outputs": []
    },
    {
      "cell_type": "markdown",
      "metadata": {
        "id": "fsUNjYGVbyOQ",
        "colab_type": "text"
      },
      "source": [
        "# 張量運算 Tensor operations\n",
        "\n",
        "\n"
      ]
    },
    {
      "cell_type": "markdown",
      "metadata": {
        "id": "JV6HMSAz2TCq",
        "colab_type": "text"
      },
      "source": [
        "### tf.reshape()"
      ]
    },
    {
      "cell_type": "code",
      "metadata": {
        "id": "9Pl8Lr1x2F_l",
        "colab_type": "code",
        "outputId": "44a882a0-505e-4845-869d-7ed1ff1026db",
        "colab": {
          "base_uri": "https://localhost:8080/",
          "height": 137
        }
      },
      "source": [
        "# -*- coding: utf-8 -*-\n",
        "import tensorflow as tf\n",
        "\n",
        "session=tf.Session()\n",
        "\n",
        "\n",
        "#\"2行3列2深度的三維張量\"\n",
        "t3d=tf.constant(\n",
        "        [\n",
        "        [[1,2],[4,5],[6,7]],\n",
        "        [[8,9],[10,11],[12,13]]\n",
        "        ],tf.float32\n",
        "        )\n",
        "\n",
        "#\"改變形狀為4行1列3深度的三維張量\"\n",
        "t1 = tf.reshape(t3d,[4,1,-1])\n",
        "\n",
        "print(session.run(t1))\n"
      ],
      "execution_count": 0,
      "outputs": [
        {
          "output_type": "stream",
          "text": [
            "[[[ 1.  2.  4.]]\n",
            "\n",
            " [[ 5.  6.  7.]]\n",
            "\n",
            " [[ 8.  9. 10.]]\n",
            "\n",
            " [[11. 12. 13.]]]\n"
          ],
          "name": "stdout"
        }
      ]
    },
    {
      "cell_type": "markdown",
      "metadata": {
        "id": "0GIoimKQ0aCd",
        "colab_type": "text"
      },
      "source": [
        "## tf.slice()切片運算\n"
      ]
    },
    {
      "cell_type": "code",
      "metadata": {
        "id": "dVGNyPyS0MaC",
        "colab_type": "code",
        "outputId": "bd858e8e-2d45-4391-f298-a6727a8b0069",
        "colab": {
          "base_uri": "https://localhost:8080/",
          "height": 34
        }
      },
      "source": [
        "# -*- coding: utf-8 -*-\n",
        "import tensorflow as tf\n",
        "\n",
        "\n",
        "t1=tf.constant([1,2,3,4,5],tf.float32)\n",
        "\n",
        "#\"從t1的第1個位置開始,取長度為3的區域\"\n",
        "t=tf.slice(t1,[1],[3])\n",
        "\n",
        "session=tf.Session()\n",
        "\n",
        "print(session.run(t))\n"
      ],
      "execution_count": 0,
      "outputs": [
        {
          "output_type": "stream",
          "text": [
            "[2. 3. 4.]\n"
          ],
          "name": "stdout"
        }
      ]
    },
    {
      "cell_type": "markdown",
      "metadata": {
        "id": "kU0C1lr21PfZ",
        "colab_type": "text"
      },
      "source": [
        "# 測驗"
      ]
    },
    {
      "cell_type": "code",
      "metadata": {
        "id": "qX4NJDKW1T5A",
        "colab_type": "code",
        "colab": {}
      },
      "source": [
        "import tensorflow as tf\n",
        "\n",
        "x = [[1,2,3],[4,5,6]]\n",
        "x = tf.convert_to_tensor(x)\n",
        "xtrans1 = tf.transpose(x)\n",
        "xtrans2 = tf.transpose(x, perm=[0,1])\n",
        "xtrans3 = tf.transpose(x, perm=[1,0])\n",
        "\n",
        "with tf.Session() as sess:\n",
        "    print(sess.run(xtrans1))\n",
        "    print(sess.run(xtrans2))\n",
        "    print(sess.run(xtrans3))"
      ],
      "execution_count": 0,
      "outputs": []
    },
    {
      "cell_type": "code",
      "metadata": {
        "id": "MUxvG38G1aIW",
        "colab_type": "code",
        "colab": {}
      },
      "source": [
        "import tensorflow as tf\n",
        "\n",
        "y=([[[1,2,3],[6,5,4]],[[4,5,6],[3,6,3]]])\n",
        "y = tf.convert_to_tensor(y)\n",
        "ytrans = tf.transpose(y, perm=[0, 2, 1])\n",
        "ytrans2 = tf.transpose(y, perm=[0, 1, 2])\n",
        "\n",
        "with tf.Session() as sess:\n",
        "    print(sess.run(ytrans))\n",
        "    print(sess.run(ytrans2))"
      ],
      "execution_count": 0,
      "outputs": []
    },
    {
      "cell_type": "code",
      "metadata": {
        "id": "WxNDfAZw3aKC",
        "colab_type": "code",
        "colab": {}
      },
      "source": [
        "# -*- coding: utf-8 -*-\n",
        "import tensorflow as tf\n",
        "\n",
        "session=tf.Session()\n",
        "\n",
        "#\"三維張量\"\n",
        "value3d=tf.constant(\n",
        "        [\n",
        "        [[2,5],[3,3],[8,2]],\n",
        "        [[6,1],[1,2],[5,4]],\n",
        "        [[7,9],[2,-3],[-1,3]]\n",
        "        ],tf.float32\n",
        "        )\n",
        "\n",
        "#\"計算沿 0 方向上的和\"\n",
        "sum0=tf.reduce_sum(value3d,axis=0)\n",
        "\n",
        "\n",
        "print(session.run(sum0))"
      ],
      "execution_count": 0,
      "outputs": []
    },
    {
      "cell_type": "code",
      "metadata": {
        "id": "X0o72ghk7mXD",
        "colab_type": "code",
        "outputId": "eb549e38-4fd3-45bf-b7f3-9d624b5caf57",
        "colab": {
          "base_uri": "https://localhost:8080/",
          "height": 103
        }
      },
      "source": [
        "#兩個張量的疊加運算tf.stack()\n",
        "\n",
        "# -*- coding: utf-8 -*-\n",
        "import tensorflow as tf\n",
        "\n",
        "\n",
        "t1=tf.constant([1,2,3],tf.float32)\n",
        "t2=tf.constant([7,8,9],tf.float32)\n",
        "\n",
        "t=tf.stack([t1,t2],0)\n",
        "t1=tf.stack([t1,t2],1)\n",
        "\n",
        "session=tf.Session()\n",
        "print(session.run(t))\n",
        "print(session.run(t1))"
      ],
      "execution_count": 0,
      "outputs": [
        {
          "output_type": "stream",
          "text": [
            "[[1. 2. 3.]\n",
            " [7. 8. 9.]]\n",
            "[[1. 7.]\n",
            " [2. 8.]\n",
            " [3. 9.]]\n"
          ],
          "name": "stdout"
        }
      ]
    },
    {
      "cell_type": "code",
      "metadata": {
        "id": "cOHdCo5z6IL9",
        "colab_type": "code",
        "colab": {}
      },
      "source": [
        "#兩個張量的連接運算tf.concat()\n",
        "\n",
        "import tensorflow as tf\n",
        "\n",
        "session=tf.Session()\n",
        "\n",
        "t1=tf.constant(\n",
        "        [\n",
        "        [1,2,3],\n",
        "        [4,5,6]\n",
        "        ],tf.float32\n",
        "        )\n",
        "t2=tf.constant(\n",
        "        [\n",
        "        [11,12,13],\n",
        "        [24,25,26]\n",
        "        ],tf.float32\n",
        "        )\n",
        "\n",
        "Concat1=tf.concat([t1,t2],axis=0)\n",
        "Concat2=tf.concat([t1,t2],axis=1)\n",
        "\n",
        "print(session.run(Concat1))\n",
        "print(session.run(Concat2))\n"
      ],
      "execution_count": 0,
      "outputs": []
    },
    {
      "cell_type": "code",
      "metadata": {
        "id": "QBX4Kfwu3ttg",
        "colab_type": "code",
        "colab": {}
      },
      "source": [
        "import tensorflow as tf\n",
        "\n",
        "session=tf.Session()\n",
        "\n",
        "value2d=tf.constant(\n",
        "        [\n",
        "         [5,1,4,2],\n",
        "         [3,9,5,7]\n",
        "                ],tf.float32\n",
        "        )\n",
        "\n",
        "#\"求沿1方向上，即每一行的最大值的位置索引\"\n",
        "result=tf.argmax(value2d,axis=1)\n",
        "result2=tf.argmax(value2d,axis=0)\n",
        "\n",
        "#result3=tf.max(value2d,axis=1)\n",
        "#result4=tf.max(value2d,axis=0)\n",
        "\n",
        "print(session.run(result))\n",
        "print(session.run(result2))\n",
        "#print(session.run(result3))\n",
        "#print(session.run(result4))"
      ],
      "execution_count": 0,
      "outputs": []
    }
  ]
}