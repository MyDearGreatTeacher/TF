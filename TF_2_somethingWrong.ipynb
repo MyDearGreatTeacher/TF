{
  "nbformat": 4,
  "nbformat_minor": 0,
  "metadata": {
    "colab": {
      "name": "TF_2_somethingWrong.ipynb",
      "version": "0.3.2",
      "provenance": [],
      "include_colab_link": true
    },
    "kernelspec": {
      "name": "python3",
      "display_name": "Python 3"
    }
  },
  "cells": [
    {
      "cell_type": "markdown",
      "metadata": {
        "id": "view-in-github",
        "colab_type": "text"
      },
      "source": [
        "<a href=\"https://colab.research.google.com/github/MyDearGreatTeacher/TF/blob/master/TF_2_somethingWrong.ipynb\" target=\"_parent\"><img src=\"https://colab.research.google.com/assets/colab-badge.svg\" alt=\"Open In Colab\"/></a>"
      ]
    },
    {
      "cell_type": "code",
      "metadata": {
        "id": "Dkq5aQmKM5Ua",
        "colab_type": "code",
        "colab": {
          "base_uri": "https://localhost:8080/",
          "height": 233
        },
        "outputId": "ca8bb9cc-d9df-4a47-e0e3-0307b58e4453"
      },
      "source": [
        "import matplotlib.pyplot as plt\n",
        "import numpy as np\n",
        "import tensorflow as tf\n",
        "from tensorflow.python.framework import ops\n",
        "\n",
        "ops.reset_default_graph()\n",
        "# Build a dataflow graph.\n",
        "c = tf.constant([[1.0, 2.0], [3.0, 4.0]])\n",
        "d = tf.constant([[1.0, 1.0], [0.0, 1.0]])\n",
        "e = tf.matmul(c, d)\n",
        "\n",
        "# Construct a `Session` to execute the graph.\n",
        "sess = tf.Session()\n",
        "\n",
        "# Execute the graph and store the value that `e` represents in `result`.\n",
        "result = sess.run(e)"
      ],
      "execution_count": 8,
      "outputs": [
        {
          "output_type": "error",
          "ename": "AttributeError",
          "evalue": "ignored",
          "traceback": [
            "\u001b[0;31m---------------------------------------------------------------------------\u001b[0m",
            "\u001b[0;31mAttributeError\u001b[0m                            Traceback (most recent call last)",
            "\u001b[0;32m<ipython-input-8-7f6d7e5ea742>\u001b[0m in \u001b[0;36m<module>\u001b[0;34m()\u001b[0m\n\u001b[1;32m     11\u001b[0m \u001b[0;34m\u001b[0m\u001b[0m\n\u001b[1;32m     12\u001b[0m \u001b[0;31m# Construct a `Session` to execute the graph.\u001b[0m\u001b[0;34m\u001b[0m\u001b[0;34m\u001b[0m\u001b[0;34m\u001b[0m\u001b[0m\n\u001b[0;32m---> 13\u001b[0;31m \u001b[0msess\u001b[0m \u001b[0;34m=\u001b[0m \u001b[0mtf\u001b[0m\u001b[0;34m.\u001b[0m\u001b[0mSession\u001b[0m\u001b[0;34m(\u001b[0m\u001b[0;34m)\u001b[0m\u001b[0;34m\u001b[0m\u001b[0;34m\u001b[0m\u001b[0m\n\u001b[0m\u001b[1;32m     14\u001b[0m \u001b[0;34m\u001b[0m\u001b[0m\n\u001b[1;32m     15\u001b[0m \u001b[0;31m# Execute the graph and store the value that `e` represents in `result`.\u001b[0m\u001b[0;34m\u001b[0m\u001b[0;34m\u001b[0m\u001b[0;34m\u001b[0m\u001b[0m\n",
            "\u001b[0;31mAttributeError\u001b[0m: module 'tensorflow' has no attribute 'Session'"
          ]
        }
      ]
    },
    {
      "cell_type": "code",
      "metadata": {
        "id": "ZcrvxzulNDMy",
        "colab_type": "code",
        "colab": {
          "base_uri": "https://localhost:8080/",
          "height": 34
        },
        "outputId": "c9caa3f0-6e04-49cb-a850-c41e2e82f73a"
      },
      "source": [
        "tf.__version__"
      ],
      "execution_count": 9,
      "outputs": [
        {
          "output_type": "execute_result",
          "data": {
            "text/plain": [
              "'2.0.0-alpha0'"
            ]
          },
          "metadata": {
            "tags": []
          },
          "execution_count": 9
        }
      ]
    },
    {
      "cell_type": "code",
      "metadata": {
        "id": "ReR8yP1PAgKu",
        "colab_type": "code",
        "colab": {
          "base_uri": "https://localhost:8080/",
          "height": 319
        },
        "outputId": "6c5552ac-e0b4-45b3-a2ea-63ca73f084b9"
      },
      "source": [
        "import matplotlib.pyplot as plt\n",
        "import numpy as np\n",
        "import tensorflow as tf\n",
        "from tensorflow.python.framework import ops\n",
        "\n",
        "ops.reset_default_graph()\n",
        "\n",
        "def main():\n",
        "\n",
        "\n",
        "    #session = tf.Session()\n",
        "\n",
        "    session = tf.Session()\n",
        "    \n",
        "    x_val = np.linspace(start=-10., stop=10., num=1000)\n",
        "\n",
        "    # ReLU activation\n",
        "    y_relu = session.run(tf.nn.relu(x_val))\n",
        "\n",
        "    # ReLU-6 activation\n",
        "    y_relu6 = session.run(tf.nn.relu6(x_val))\n",
        "\n",
        "    # Sigmoid activation\n",
        "    y_sigmoid = session.run(tf.nn.sigmoid(x_val))\n",
        "\n",
        "    # Hyper Tangent activation\n",
        "    y_tanh = session.run(tf.nn.tanh(x_val))\n",
        "\n",
        "    # Softsign activation\n",
        "    y_softsign = session.run(tf.nn.softsign(x_val))\n",
        "\n",
        "    # Softplus activation\n",
        "    y_softplus = session.run(tf.nn.softplus(x_val))\n",
        "\n",
        "    # Exponential linear activation\n",
        "    print(session.run(tf.nn.elu([-1., 0., 1.])))\n",
        "    y_elu = session.run(tf.nn.elu(x_val))\n",
        "\n",
        "\n",
        "    plt.plot(x_val, y_softplus, 'r--', label='Softplus', linewidth=2)\n",
        "    plt.plot(x_val, y_relu, 'b:', label='RELU', linewidth=2)\n",
        "    plt.plot(x_val, y_relu6, 'g-.', label='RELU6', linewidth=2)\n",
        "    plt.plot(x_val, y_elu, 'k-', label='ELU', linewidth=1)\n",
        "    plt.ylim([-1.5,7])\n",
        "    plt.legend(loc='top left')\n",
        "    plt.title('Activation functions', y=1.05)\n",
        "    plt.show()\n",
        "\n",
        "    plt.plot(x_val, y_sigmoid, 'r--', label='Sigmoid', linewidth=2)\n",
        "    plt.plot(x_val, y_tanh, 'b:', label='tanh', linewidth=2)\n",
        "    plt.plot(x_val, y_softsign, 'g-.', label='Softsign', linewidth=2)\n",
        "\n",
        "    plt.ylim([-1.5,1.5])\n",
        "    plt.legend(loc='top left')\n",
        "    plt.title('Activation functions with Vanishing Gradient', y=1.05)\n",
        "    plt.show()\n",
        "\n",
        "if __name__ == '__main__':\n",
        "  main()"
      ],
      "execution_count": 7,
      "outputs": [
        {
          "output_type": "error",
          "ename": "AttributeError",
          "evalue": "ignored",
          "traceback": [
            "\u001b[0;31m---------------------------------------------------------------------------\u001b[0m",
            "\u001b[0;31mAttributeError\u001b[0m                            Traceback (most recent call last)",
            "\u001b[0;32m<ipython-input-7-a8a0937b7ca8>\u001b[0m in \u001b[0;36m<module>\u001b[0;34m()\u001b[0m\n\u001b[1;32m     57\u001b[0m \u001b[0;34m\u001b[0m\u001b[0m\n\u001b[1;32m     58\u001b[0m \u001b[0;32mif\u001b[0m \u001b[0m__name__\u001b[0m \u001b[0;34m==\u001b[0m \u001b[0;34m'__main__'\u001b[0m\u001b[0;34m:\u001b[0m\u001b[0;34m\u001b[0m\u001b[0;34m\u001b[0m\u001b[0m\n\u001b[0;32m---> 59\u001b[0;31m   \u001b[0mmain\u001b[0m\u001b[0;34m(\u001b[0m\u001b[0;34m)\u001b[0m\u001b[0;34m\u001b[0m\u001b[0;34m\u001b[0m\u001b[0m\n\u001b[0m",
            "\u001b[0;32m<ipython-input-7-a8a0937b7ca8>\u001b[0m in \u001b[0;36mmain\u001b[0;34m()\u001b[0m\n\u001b[1;32m     11\u001b[0m     \u001b[0;31m#session = tf.Session()\u001b[0m\u001b[0;34m\u001b[0m\u001b[0;34m\u001b[0m\u001b[0;34m\u001b[0m\u001b[0m\n\u001b[1;32m     12\u001b[0m \u001b[0;34m\u001b[0m\u001b[0m\n\u001b[0;32m---> 13\u001b[0;31m     \u001b[0msession\u001b[0m \u001b[0;34m=\u001b[0m \u001b[0mtf\u001b[0m\u001b[0;34m.\u001b[0m\u001b[0mSession\u001b[0m\u001b[0;34m(\u001b[0m\u001b[0;34m)\u001b[0m\u001b[0;34m\u001b[0m\u001b[0;34m\u001b[0m\u001b[0m\n\u001b[0m\u001b[1;32m     14\u001b[0m \u001b[0;34m\u001b[0m\u001b[0m\n\u001b[1;32m     15\u001b[0m     \u001b[0mx_val\u001b[0m \u001b[0;34m=\u001b[0m \u001b[0mnp\u001b[0m\u001b[0;34m.\u001b[0m\u001b[0mlinspace\u001b[0m\u001b[0;34m(\u001b[0m\u001b[0mstart\u001b[0m\u001b[0;34m=\u001b[0m\u001b[0;34m-\u001b[0m\u001b[0;36m10.\u001b[0m\u001b[0;34m,\u001b[0m \u001b[0mstop\u001b[0m\u001b[0;34m=\u001b[0m\u001b[0;36m10.\u001b[0m\u001b[0;34m,\u001b[0m \u001b[0mnum\u001b[0m\u001b[0;34m=\u001b[0m\u001b[0;36m1000\u001b[0m\u001b[0;34m)\u001b[0m\u001b[0;34m\u001b[0m\u001b[0;34m\u001b[0m\u001b[0m\n",
            "\u001b[0;31mAttributeError\u001b[0m: module 'tensorflow' has no attribute 'Session'"
          ]
        }
      ]
    }
  ]
}