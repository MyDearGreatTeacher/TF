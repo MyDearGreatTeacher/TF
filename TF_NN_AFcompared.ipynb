{
  "nbformat": 4,
  "nbformat_minor": 0,
  "metadata": {
    "colab": {
      "name": "TF_NN_AFcompared.ipynb",
      "version": "0.3.2",
      "provenance": [],
      "include_colab_link": true
    },
    "kernelspec": {
      "name": "python3",
      "display_name": "Python 3"
    }
  },
  "cells": [
    {
      "cell_type": "markdown",
      "metadata": {
        "id": "view-in-github",
        "colab_type": "text"
      },
      "source": [
        "<a href=\"https://colab.research.google.com/github/MyDearGreatTeacher/TF/blob/master/TF_NN_AFcompared.ipynb\" target=\"_parent\"><img src=\"https://colab.research.google.com/assets/colab-badge.svg\" alt=\"Open In Colab\"/></a>"
      ]
    },
    {
      "cell_type": "code",
      "metadata": {
        "id": "TswntA_uLMz_",
        "colab_type": "code",
        "colab": {
          "base_uri": "https://localhost:8080/",
          "height": 570
        },
        "outputId": "ca655bb8-a09d-42be-8aa3-76c930930a50"
      },
      "source": [
        "\"\"\"\n",
        "Combining Gates and Activation Functions\n",
        "This function shows how to implement\n",
        "various gates with activation functions\n",
        "in TensorFlow\n",
        "This function is an extension of the\n",
        "prior gates, but with various activation\n",
        "functions.\n",
        "\"\"\"\n",
        "\n",
        "import tensorflow as tf\n",
        "import numpy as np\n",
        "import matplotlib.pyplot as plt\n",
        "from tensorflow.python.framework import ops\n",
        "ops.reset_default_graph()\n",
        "\n",
        "# Start Graph Session\n",
        "sess = tf.Session()\n",
        "tf.set_random_seed(5)\n",
        "np.random.seed(42)\n",
        "\n",
        "batch_size = 50\n",
        "\n",
        "a1 = tf.Variable(tf.random_normal(shape=[1, 1]))\n",
        "b1 = tf.Variable(tf.random_uniform(shape=[1, 1]))\n",
        "a2 = tf.Variable(tf.random_normal(shape=[1, 1]))\n",
        "b2 = tf.Variable(tf.random_uniform(shape=[1, 1]))\n",
        "x = np.random.normal(2, 0.1, 500)\n",
        "x_data = tf.placeholder(shape=[None, 1], dtype=tf.float32)\n",
        "\n",
        "sigmoid_activation = tf.sigmoid(tf.add(tf.matmul(x_data, a1), b1))\n",
        "\n",
        "relu_activation = tf.nn.relu(tf.add(tf.matmul(x_data, a2), b2))\n",
        "\n",
        "# Declare the loss function as the difference between\n",
        "# the output and a target value, 0.75.\n",
        "loss1 = tf.reduce_mean(tf.square(tf.subtract(sigmoid_activation, 0.75)))\n",
        "loss2 = tf.reduce_mean(tf.square(tf.subtract(relu_activation, 0.75)))\n",
        "\n",
        "# Initialize variables\n",
        "init = tf.global_variables_initializer()\n",
        "sess.run(init)\n",
        "\n",
        "# Declare optimizer\n",
        "my_opt = tf.train.GradientDescentOptimizer(0.01)\n",
        "train_step_sigmoid = my_opt.minimize(loss1)\n",
        "train_step_relu = my_opt.minimize(loss2)\n",
        "\n",
        "# Run loop across gate\n",
        "print('\\nOptimizing Sigmoid AND Relu Output to 0.75')\n",
        "loss_vec_sigmoid = []\n",
        "loss_vec_relu = []\n",
        "for i in range(500):\n",
        "    rand_indices = np.random.choice(len(x), size=batch_size)\n",
        "    x_vals = np.transpose([x[rand_indices]])\n",
        "    sess.run(train_step_sigmoid, feed_dict={x_data: x_vals})\n",
        "    sess.run(train_step_relu, feed_dict={x_data: x_vals})\n",
        "    \n",
        "    loss_vec_sigmoid.append(sess.run(loss1, feed_dict={x_data: x_vals}))\n",
        "    loss_vec_relu.append(sess.run(loss2, feed_dict={x_data: x_vals}))    \n",
        "    \n",
        "    sigmoid_output = np.mean(sess.run(sigmoid_activation, feed_dict={x_data: x_vals}))\n",
        "    relu_output = np.mean(sess.run(relu_activation, feed_dict={x_data: x_vals}))\n",
        "    \n",
        "    if i % 50 == 0:\n",
        "        print('sigmoid = ' + str(np.mean(sigmoid_output)) + ' relu = ' + str(np.mean(relu_output)))\n",
        "\n",
        "# Plot the loss\n",
        "plt.plot(loss_vec_sigmoid, 'k-', label='Sigmoid Activation')\n",
        "plt.plot(loss_vec_relu, 'r--', label='Relu Activation')\n",
        "plt.ylim([0, 1.0])\n",
        "plt.title('Loss per Generation')\n",
        "plt.xlabel('Generation')\n",
        "plt.ylabel('Loss')\n",
        "plt.legend(loc='upper right')\n",
        "plt.show()"
      ],
      "execution_count": 1,
      "outputs": [
        {
          "output_type": "stream",
          "text": [
            "WARNING:tensorflow:From /usr/local/lib/python3.6/dist-packages/tensorflow/python/framework/op_def_library.py:263: colocate_with (from tensorflow.python.framework.ops) is deprecated and will be removed in a future version.\n",
            "Instructions for updating:\n",
            "Colocations handled automatically by placer.\n",
            "\n",
            "Optimizing Sigmoid AND Relu Output to 0.75\n",
            "sigmoid = 0.12655206 relu = 2.0227606\n",
            "sigmoid = 0.17863758 relu = 0.7530296\n",
            "sigmoid = 0.24769813 relu = 0.7492897\n",
            "sigmoid = 0.3446748 relu = 0.7499546\n",
            "sigmoid = 0.4400661 relu = 0.7539999\n",
            "sigmoid = 0.5236898 relu = 0.754772\n",
            "sigmoid = 0.58373857 relu = 0.7508698\n",
            "sigmoid = 0.62733483 relu = 0.7470234\n",
            "sigmoid = 0.6549499 relu = 0.75180537\n",
            "sigmoid = 0.67452586 relu = 0.75470716\n"
          ],
          "name": "stdout"
        },
        {
          "output_type": "display_data",
          "data": {
            "image/png": "[encoded data removed]",
            "text/plain": [
              "<Figure size 432x288 with 1 Axes>"
            ]
          },
          "metadata": {
            "tags": []
          }
        }
      ]
    }
  ]
}